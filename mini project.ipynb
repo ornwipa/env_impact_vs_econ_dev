{
 "cells": [
  {
   "cell_type": "markdown",
   "metadata": {},
   "source": [
    "**Download package & explore data**"
   ]
  },
  {
   "cell_type": "code",
   "execution_count": 1,
   "metadata": {},
   "outputs": [],
   "source": [
    "import pandas as pd\n",
    "data = pd.read_csv('./Week5-Visualization/23_2151_bundle_archive/Indicators.csv')"
   ]
  },
  {
   "cell_type": "code",
   "execution_count": 3,
   "metadata": {},
   "outputs": [
    {
     "data": {
      "text/html": [
       "<div>\n",
       "<style scoped>\n",
       "    .dataframe tbody tr th:only-of-type {\n",
       "        vertical-align: middle;\n",
       "    }\n",
       "\n",
       "    .dataframe tbody tr th {\n",
       "        vertical-align: top;\n",
       "    }\n",
       "\n",
       "    .dataframe thead th {\n",
       "        text-align: right;\n",
       "    }\n",
       "</style>\n",
       "<table border=\"1\" class=\"dataframe\">\n",
       "  <thead>\n",
       "    <tr style=\"text-align: right;\">\n",
       "      <th></th>\n",
       "      <th>CountryName</th>\n",
       "      <th>CountryCode</th>\n",
       "      <th>IndicatorName</th>\n",
       "      <th>IndicatorCode</th>\n",
       "      <th>Year</th>\n",
       "      <th>Value</th>\n",
       "    </tr>\n",
       "  </thead>\n",
       "  <tbody>\n",
       "    <tr>\n",
       "      <th>0</th>\n",
       "      <td>Arab World</td>\n",
       "      <td>ARB</td>\n",
       "      <td>Adolescent fertility rate (births per 1,000 wo...</td>\n",
       "      <td>SP.ADO.TFRT</td>\n",
       "      <td>1960</td>\n",
       "      <td>1.335609e+02</td>\n",
       "    </tr>\n",
       "    <tr>\n",
       "      <th>1</th>\n",
       "      <td>Arab World</td>\n",
       "      <td>ARB</td>\n",
       "      <td>Age dependency ratio (% of working-age populat...</td>\n",
       "      <td>SP.POP.DPND</td>\n",
       "      <td>1960</td>\n",
       "      <td>8.779760e+01</td>\n",
       "    </tr>\n",
       "    <tr>\n",
       "      <th>2</th>\n",
       "      <td>Arab World</td>\n",
       "      <td>ARB</td>\n",
       "      <td>Age dependency ratio, old (% of working-age po...</td>\n",
       "      <td>SP.POP.DPND.OL</td>\n",
       "      <td>1960</td>\n",
       "      <td>6.634579e+00</td>\n",
       "    </tr>\n",
       "    <tr>\n",
       "      <th>3</th>\n",
       "      <td>Arab World</td>\n",
       "      <td>ARB</td>\n",
       "      <td>Age dependency ratio, young (% of working-age ...</td>\n",
       "      <td>SP.POP.DPND.YG</td>\n",
       "      <td>1960</td>\n",
       "      <td>8.102333e+01</td>\n",
       "    </tr>\n",
       "    <tr>\n",
       "      <th>4</th>\n",
       "      <td>Arab World</td>\n",
       "      <td>ARB</td>\n",
       "      <td>Arms exports (SIPRI trend indicator values)</td>\n",
       "      <td>MS.MIL.XPRT.KD</td>\n",
       "      <td>1960</td>\n",
       "      <td>3.000000e+06</td>\n",
       "    </tr>\n",
       "  </tbody>\n",
       "</table>\n",
       "</div>"
      ],
      "text/plain": [
       "  CountryName CountryCode                                      IndicatorName  \\\n",
       "0  Arab World         ARB  Adolescent fertility rate (births per 1,000 wo...   \n",
       "1  Arab World         ARB  Age dependency ratio (% of working-age populat...   \n",
       "2  Arab World         ARB  Age dependency ratio, old (% of working-age po...   \n",
       "3  Arab World         ARB  Age dependency ratio, young (% of working-age ...   \n",
       "4  Arab World         ARB        Arms exports (SIPRI trend indicator values)   \n",
       "\n",
       "    IndicatorCode  Year         Value  \n",
       "0     SP.ADO.TFRT  1960  1.335609e+02  \n",
       "1     SP.POP.DPND  1960  8.779760e+01  \n",
       "2  SP.POP.DPND.OL  1960  6.634579e+00  \n",
       "3  SP.POP.DPND.YG  1960  8.102333e+01  \n",
       "4  MS.MIL.XPRT.KD  1960  3.000000e+06  "
      ]
     },
     "execution_count": 3,
     "metadata": {},
     "output_type": "execute_result"
    }
   ],
   "source": [
    "data.head()"
   ]
  },
  {
   "cell_type": "code",
   "execution_count": 4,
   "metadata": {},
   "outputs": [
    {
     "data": {
      "text/plain": [
       "(5656458, 6)"
      ]
     },
     "execution_count": 4,
     "metadata": {},
     "output_type": "execute_result"
    }
   ],
   "source": [
    "data.shape"
   ]
  },
  {
   "cell_type": "code",
   "execution_count": 5,
   "metadata": {},
   "outputs": [
    {
     "data": {
      "text/plain": [
       "array(['Adolescent fertility rate (births per 1,000 women ages 15-19)',\n",
       "       'Age dependency ratio (% of working-age population)',\n",
       "       'Age dependency ratio, old (% of working-age population)', ...,\n",
       "       'Fish species, threatened', 'Mammal species, threatened',\n",
       "       'Plant species (higher), threatened'], dtype=object)"
      ]
     },
     "execution_count": 5,
     "metadata": {},
     "output_type": "execute_result"
    }
   ],
   "source": [
    "data.IndicatorName.unique()"
   ]
  },
  {
   "cell_type": "code",
   "execution_count": 6,
   "metadata": {},
   "outputs": [
    {
     "data": {
      "text/plain": [
       "1344"
      ]
     },
     "execution_count": 6,
     "metadata": {},
     "output_type": "execute_result"
    }
   ],
   "source": [
    "len(data.IndicatorName.unique())"
   ]
  },
  {
   "cell_type": "markdown",
   "metadata": {},
   "source": [
    "**Filter parameters of interest: environmental disaster**"
   ]
  },
  {
   "cell_type": "code",
   "execution_count": 7,
   "metadata": {},
   "outputs": [],
   "source": [
    "filterSpecies = data.IndicatorName.str.contains('temperature')"
   ]
  },
  {
   "cell_type": "code",
   "execution_count": 8,
   "metadata": {},
   "outputs": [
    {
     "data": {
      "text/plain": [
       "(168, 6)"
      ]
     },
     "execution_count": 8,
     "metadata": {},
     "output_type": "execute_result"
    }
   ],
   "source": [
    "data[filterSpecies].shape"
   ]
  },
  {
   "cell_type": "code",
   "execution_count": 9,
   "metadata": {},
   "outputs": [
    {
     "data": {
      "text/plain": [
       "168"
      ]
     },
     "execution_count": 9,
     "metadata": {},
     "output_type": "execute_result"
    }
   ],
   "source": [
    "len(data[filterSpecies].CountryCode.unique())"
   ]
  },
  {
   "cell_type": "code",
   "execution_count": 10,
   "metadata": {},
   "outputs": [
    {
     "data": {
      "text/plain": [
       "array([2009])"
      ]
     },
     "execution_count": 10,
     "metadata": {},
     "output_type": "execute_result"
    }
   ],
   "source": [
    "data[filterSpecies].Year.unique()"
   ]
  },
  {
   "cell_type": "code",
   "execution_count": 11,
   "metadata": {},
   "outputs": [
    {
     "data": {
      "text/plain": [
       "array(['Droughts, floods, extreme temperatures (% of population, average 1990-2009)'],\n",
       "      dtype=object)"
      ]
     },
     "execution_count": 11,
     "metadata": {},
     "output_type": "execute_result"
    }
   ],
   "source": [
    "data[filterSpecies].IndicatorName.unique()"
   ]
  },
  {
   "cell_type": "markdown",
   "metadata": {},
   "source": [
    "**Filter parameters of interest: co2 emission**"
   ]
  },
  {
   "cell_type": "code",
   "execution_count": 12,
   "metadata": {},
   "outputs": [],
   "source": [
    "filterEmission = data.IndicatorName.str.contains('emission')"
   ]
  },
  {
   "cell_type": "code",
   "execution_count": 13,
   "metadata": {},
   "outputs": [
    {
     "data": {
      "text/plain": [
       "array(['CO2 emissions (kt)', 'CO2 emissions (metric tons per capita)',\n",
       "       'CO2 emissions from gaseous fuel consumption (% of total)',\n",
       "       'CO2 emissions from liquid fuel consumption (% of total)',\n",
       "       'CO2 emissions from liquid fuel consumption (kt)',\n",
       "       'CO2 emissions from solid fuel consumption (% of total)',\n",
       "       'CO2 emissions from electricity and heat production, total (% of total fuel combustion)',\n",
       "       'CO2 emissions from manufacturing industries and construction (% of total fuel combustion)',\n",
       "       'CO2 emissions from other sectors, excluding residential buildings and commercial and public services (% of total fuel combustion)',\n",
       "       'CO2 emissions from residential buildings and commercial and public services (% of total fuel combustion)',\n",
       "       'CO2 emissions from solid fuel consumption (kt)',\n",
       "       'CO2 emissions from transport (% of total fuel combustion)',\n",
       "       'CO2 emissions (kg per 2005 US$ of GDP)',\n",
       "       'CO2 emissions from gaseous fuel consumption (kt)',\n",
       "       'Adjusted net savings, excluding particulate emission damage (% of GNI)',\n",
       "       'Adjusted net savings, excluding particulate emission damage (current US$)',\n",
       "       'Adjusted net savings, including particulate emission damage (% of GNI)',\n",
       "       'Adjusted savings: particulate emission damage (% of GNI)',\n",
       "       'Agricultural methane emissions (% of total)',\n",
       "       'Agricultural nitrous oxide emissions (% of total)',\n",
       "       'CO2 emissions (kg per 2011 PPP $ of GDP)',\n",
       "       'CO2 emissions (kg per PPP $ of GDP)',\n",
       "       'Energy related methane emissions (% of total)',\n",
       "       'Methane emissions (kt of CO2 equivalent)',\n",
       "       'Methane emissions in energy sector (thousand metric tons of CO2 equivalent)',\n",
       "       'Nitrous oxide emissions (thousand metric tons of CO2 equivalent)',\n",
       "       'Nitrous oxide emissions in energy sector (thousand metric tons of CO2 equivalent)',\n",
       "       'Nitrous oxide emissions in industrial and energy processes (% of total nitrous oxide emissions)',\n",
       "       'Other greenhouse gas emissions, HFC, PFC and SF6 (thousand metric tons of CO2 equivalent)',\n",
       "       'SF6 gas emissions (thousand metric tons of CO2 equivalent)',\n",
       "       'HFC gas emissions (thousand metric tons of CO2 equivalent)',\n",
       "       'PFC gas emissions (thousand metric tons of CO2 equivalent)',\n",
       "       'Adjusted net savings, including particulate emission damage (current US$)',\n",
       "       'Adjusted savings: particulate emission damage (current US$)',\n",
       "       'Agricultural methane emissions (thousand metric tons of CO2 equivalent)',\n",
       "       'Agricultural nitrous oxide emissions (thousand metric tons of CO2 equivalent)',\n",
       "       'Industrial nitrous oxide emissions (thousand metric tons of CO2 equivalent)',\n",
       "       'GHG net emissions/removals by LUCF (Mt of CO2 equivalent)'],\n",
       "      dtype=object)"
      ]
     },
     "execution_count": 13,
     "metadata": {},
     "output_type": "execute_result"
    }
   ],
   "source": [
    "data[filterEmission].IndicatorName.unique()"
   ]
  },
  {
   "cell_type": "code",
   "execution_count": 14,
   "metadata": {},
   "outputs": [],
   "source": [
    "filterEmission = data.IndicatorName == 'CO2 emissions (metric tons per capita)'"
   ]
  },
  {
   "cell_type": "code",
   "execution_count": 15,
   "metadata": {},
   "outputs": [
    {
     "data": {
      "text/plain": [
       "232"
      ]
     },
     "execution_count": 15,
     "metadata": {},
     "output_type": "execute_result"
    }
   ],
   "source": [
    "len(data[filterEmission].CountryCode.unique())"
   ]
  },
  {
   "cell_type": "code",
   "execution_count": 16,
   "metadata": {},
   "outputs": [
    {
     "data": {
      "text/plain": [
       "array([1960, 1961, 1962, 1963, 1964, 1965, 1966, 1967, 1968, 1969, 1970,\n",
       "       1971, 1972, 1973, 1974, 1975, 1976, 1977, 1978, 1979, 1980, 1981,\n",
       "       1982, 1983, 1984, 1985, 1986, 1987, 1988, 1989, 1990, 1991, 1992,\n",
       "       1993, 1994, 1995, 1996, 1997, 1998, 1999, 2000, 2001, 2002, 2003,\n",
       "       2004, 2005, 2006, 2007, 2008, 2009, 2010, 2011])"
      ]
     },
     "execution_count": 16,
     "metadata": {},
     "output_type": "execute_result"
    }
   ],
   "source": [
    "data[filterEmission].Year.unique()"
   ]
  },
  {
   "cell_type": "code",
   "execution_count": 17,
   "metadata": {},
   "outputs": [
    {
     "data": {
      "text/plain": [
       "(10599, 6)"
      ]
     },
     "execution_count": 17,
     "metadata": {},
     "output_type": "execute_result"
    }
   ],
   "source": [
    "data[filterEmission].shape"
   ]
  },
  {
   "cell_type": "markdown",
   "metadata": {},
   "source": [
    "**Prepare data for extreme temperature events**"
   ]
  },
  {
   "cell_type": "code",
   "execution_count": 2,
   "metadata": {},
   "outputs": [],
   "source": [
    "df1 = data[data.IndicatorName == 'Droughts, floods, extreme temperatures (% of population, average 1990-2009)']"
   ]
  },
  {
   "cell_type": "code",
   "execution_count": 19,
   "metadata": {},
   "outputs": [
    {
     "data": {
      "text/plain": [
       "'Swaziland'"
      ]
     },
     "execution_count": 19,
     "metadata": {},
     "output_type": "execute_result"
    }
   ],
   "source": [
    "df1.CountryName[df1.Value.idxmax()]"
   ]
  },
  {
   "cell_type": "code",
   "execution_count": 20,
   "metadata": {},
   "outputs": [
    {
     "data": {
      "text/html": [
       "<div>\n",
       "<style scoped>\n",
       "    .dataframe tbody tr th:only-of-type {\n",
       "        vertical-align: middle;\n",
       "    }\n",
       "\n",
       "    .dataframe tbody tr th {\n",
       "        vertical-align: top;\n",
       "    }\n",
       "\n",
       "    .dataframe thead th {\n",
       "        text-align: right;\n",
       "    }\n",
       "</style>\n",
       "<table border=\"1\" class=\"dataframe\">\n",
       "  <thead>\n",
       "    <tr style=\"text-align: right;\">\n",
       "      <th></th>\n",
       "      <th>CountryName</th>\n",
       "      <th>CountryCode</th>\n",
       "      <th>IndicatorName</th>\n",
       "      <th>IndicatorCode</th>\n",
       "      <th>Year</th>\n",
       "      <th>Value</th>\n",
       "    </tr>\n",
       "  </thead>\n",
       "  <tbody>\n",
       "    <tr>\n",
       "      <th>4816307</th>\n",
       "      <td>Swaziland</td>\n",
       "      <td>SWZ</td>\n",
       "      <td>Droughts, floods, extreme temperatures (% of p...</td>\n",
       "      <td>EN.CLC.MDAT.ZS</td>\n",
       "      <td>2009</td>\n",
       "      <td>9.226586</td>\n",
       "    </tr>\n",
       "    <tr>\n",
       "      <th>4769093</th>\n",
       "      <td>Malawi</td>\n",
       "      <td>MWI</td>\n",
       "      <td>Droughts, floods, extreme temperatures (% of p...</td>\n",
       "      <td>EN.CLC.MDAT.ZS</td>\n",
       "      <td>2009</td>\n",
       "      <td>8.820493</td>\n",
       "    </tr>\n",
       "    <tr>\n",
       "      <th>4712200</th>\n",
       "      <td>China</td>\n",
       "      <td>CHN</td>\n",
       "      <td>Droughts, floods, extreme temperatures (% of p...</td>\n",
       "      <td>EN.CLC.MDAT.ZS</td>\n",
       "      <td>2009</td>\n",
       "      <td>7.950971</td>\n",
       "    </tr>\n",
       "    <tr>\n",
       "      <th>4786555</th>\n",
       "      <td>Niger</td>\n",
       "      <td>NER</td>\n",
       "      <td>Droughts, floods, extreme temperatures (% of p...</td>\n",
       "      <td>EN.CLC.MDAT.ZS</td>\n",
       "      <td>2009</td>\n",
       "      <td>7.525066</td>\n",
       "    </tr>\n",
       "    <tr>\n",
       "      <th>4728135</th>\n",
       "      <td>Eritrea</td>\n",
       "      <td>ERI</td>\n",
       "      <td>Droughts, floods, extreme temperatures (% of p...</td>\n",
       "      <td>EN.CLC.MDAT.ZS</td>\n",
       "      <td>2009</td>\n",
       "      <td>7.323483</td>\n",
       "    </tr>\n",
       "    <tr>\n",
       "      <th>4741711</th>\n",
       "      <td>Guyana</td>\n",
       "      <td>GUY</td>\n",
       "      <td>Droughts, floods, extreme temperatures (% of p...</td>\n",
       "      <td>EN.CLC.MDAT.ZS</td>\n",
       "      <td>2009</td>\n",
       "      <td>7.170624</td>\n",
       "    </tr>\n",
       "    <tr>\n",
       "      <th>4722243</th>\n",
       "      <td>Djibouti</td>\n",
       "      <td>DJI</td>\n",
       "      <td>Droughts, floods, extreme temperatures (% of p...</td>\n",
       "      <td>EN.CLC.MDAT.ZS</td>\n",
       "      <td>2009</td>\n",
       "      <td>6.796847</td>\n",
       "    </tr>\n",
       "    <tr>\n",
       "      <th>4707144</th>\n",
       "      <td>Cambodia</td>\n",
       "      <td>KHM</td>\n",
       "      <td>Droughts, floods, extreme temperatures (% of p...</td>\n",
       "      <td>EN.CLC.MDAT.ZS</td>\n",
       "      <td>2009</td>\n",
       "      <td>6.643791</td>\n",
       "    </tr>\n",
       "    <tr>\n",
       "      <th>4755695</th>\n",
       "      <td>Kenya</td>\n",
       "      <td>KEN</td>\n",
       "      <td>Droughts, floods, extreme temperatures (% of p...</td>\n",
       "      <td>EN.CLC.MDAT.ZS</td>\n",
       "      <td>2009</td>\n",
       "      <td>6.477853</td>\n",
       "    </tr>\n",
       "    <tr>\n",
       "      <th>4819509</th>\n",
       "      <td>Tajikistan</td>\n",
       "      <td>TJK</td>\n",
       "      <td>Droughts, floods, extreme temperatures (% of p...</td>\n",
       "      <td>EN.CLC.MDAT.ZS</td>\n",
       "      <td>2009</td>\n",
       "      <td>5.378086</td>\n",
       "    </tr>\n",
       "    <tr>\n",
       "      <th>4683056</th>\n",
       "      <td>Albania</td>\n",
       "      <td>ALB</td>\n",
       "      <td>Droughts, floods, extreme temperatures (% of p...</td>\n",
       "      <td>EN.CLC.MDAT.ZS</td>\n",
       "      <td>2009</td>\n",
       "      <td>5.269577</td>\n",
       "    </tr>\n",
       "    <tr>\n",
       "      <th>4756565</th>\n",
       "      <td>Kiribati</td>\n",
       "      <td>KIR</td>\n",
       "      <td>Droughts, floods, extreme temperatures (% of p...</td>\n",
       "      <td>EN.CLC.MDAT.ZS</td>\n",
       "      <td>2009</td>\n",
       "      <td>5.002999</td>\n",
       "    </tr>\n",
       "    <tr>\n",
       "      <th>4809353</th>\n",
       "      <td>Somalia</td>\n",
       "      <td>SOM</td>\n",
       "      <td>Droughts, floods, extreme temperatures (% of p...</td>\n",
       "      <td>EN.CLC.MDAT.ZS</td>\n",
       "      <td>2009</td>\n",
       "      <td>4.603689</td>\n",
       "    </tr>\n",
       "    <tr>\n",
       "      <th>4692398</th>\n",
       "      <td>Bangladesh</td>\n",
       "      <td>BGD</td>\n",
       "      <td>Droughts, floods, extreme temperatures (% of p...</td>\n",
       "      <td>EN.CLC.MDAT.ZS</td>\n",
       "      <td>2009</td>\n",
       "      <td>4.584694</td>\n",
       "    </tr>\n",
       "    <tr>\n",
       "      <th>4746524</th>\n",
       "      <td>India</td>\n",
       "      <td>IND</td>\n",
       "      <td>Droughts, floods, extreme temperatures (% of p...</td>\n",
       "      <td>EN.CLC.MDAT.ZS</td>\n",
       "      <td>2009</td>\n",
       "      <td>4.356109</td>\n",
       "    </tr>\n",
       "    <tr>\n",
       "      <th>4837607</th>\n",
       "      <td>Zambia</td>\n",
       "      <td>ZMB</td>\n",
       "      <td>Droughts, floods, extreme temperatures (% of p...</td>\n",
       "      <td>EN.CLC.MDAT.ZS</td>\n",
       "      <td>2009</td>\n",
       "      <td>4.199677</td>\n",
       "    </tr>\n",
       "    <tr>\n",
       "      <th>4821399</th>\n",
       "      <td>Thailand</td>\n",
       "      <td>THA</td>\n",
       "      <td>Droughts, floods, extreme temperatures (% of p...</td>\n",
       "      <td>EN.CLC.MDAT.ZS</td>\n",
       "      <td>2009</td>\n",
       "      <td>3.751099</td>\n",
       "    </tr>\n",
       "    <tr>\n",
       "      <th>4780857</th>\n",
       "      <td>Mozambique</td>\n",
       "      <td>MOZ</td>\n",
       "      <td>Droughts, floods, extreme temperatures (% of p...</td>\n",
       "      <td>EN.CLC.MDAT.ZS</td>\n",
       "      <td>2009</td>\n",
       "      <td>3.662448</td>\n",
       "    </tr>\n",
       "    <tr>\n",
       "      <th>4762874</th>\n",
       "      <td>Lesotho</td>\n",
       "      <td>LSO</td>\n",
       "      <td>Droughts, floods, extreme temperatures (% of p...</td>\n",
       "      <td>EN.CLC.MDAT.ZS</td>\n",
       "      <td>2009</td>\n",
       "      <td>3.402651</td>\n",
       "    </tr>\n",
       "    <tr>\n",
       "      <th>4782341</th>\n",
       "      <td>Namibia</td>\n",
       "      <td>NAM</td>\n",
       "      <td>Droughts, floods, extreme temperatures (% of p...</td>\n",
       "      <td>EN.CLC.MDAT.ZS</td>\n",
       "      <td>2009</td>\n",
       "      <td>3.401434</td>\n",
       "    </tr>\n",
       "  </tbody>\n",
       "</table>\n",
       "</div>"
      ],
      "text/plain": [
       "        CountryName CountryCode  \\\n",
       "4816307   Swaziland         SWZ   \n",
       "4769093      Malawi         MWI   \n",
       "4712200       China         CHN   \n",
       "4786555       Niger         NER   \n",
       "4728135     Eritrea         ERI   \n",
       "4741711      Guyana         GUY   \n",
       "4722243    Djibouti         DJI   \n",
       "4707144    Cambodia         KHM   \n",
       "4755695       Kenya         KEN   \n",
       "4819509  Tajikistan         TJK   \n",
       "4683056     Albania         ALB   \n",
       "4756565    Kiribati         KIR   \n",
       "4809353     Somalia         SOM   \n",
       "4692398  Bangladesh         BGD   \n",
       "4746524       India         IND   \n",
       "4837607      Zambia         ZMB   \n",
       "4821399    Thailand         THA   \n",
       "4780857  Mozambique         MOZ   \n",
       "4762874     Lesotho         LSO   \n",
       "4782341     Namibia         NAM   \n",
       "\n",
       "                                             IndicatorName   IndicatorCode  \\\n",
       "4816307  Droughts, floods, extreme temperatures (% of p...  EN.CLC.MDAT.ZS   \n",
       "4769093  Droughts, floods, extreme temperatures (% of p...  EN.CLC.MDAT.ZS   \n",
       "4712200  Droughts, floods, extreme temperatures (% of p...  EN.CLC.MDAT.ZS   \n",
       "4786555  Droughts, floods, extreme temperatures (% of p...  EN.CLC.MDAT.ZS   \n",
       "4728135  Droughts, floods, extreme temperatures (% of p...  EN.CLC.MDAT.ZS   \n",
       "4741711  Droughts, floods, extreme temperatures (% of p...  EN.CLC.MDAT.ZS   \n",
       "4722243  Droughts, floods, extreme temperatures (% of p...  EN.CLC.MDAT.ZS   \n",
       "4707144  Droughts, floods, extreme temperatures (% of p...  EN.CLC.MDAT.ZS   \n",
       "4755695  Droughts, floods, extreme temperatures (% of p...  EN.CLC.MDAT.ZS   \n",
       "4819509  Droughts, floods, extreme temperatures (% of p...  EN.CLC.MDAT.ZS   \n",
       "4683056  Droughts, floods, extreme temperatures (% of p...  EN.CLC.MDAT.ZS   \n",
       "4756565  Droughts, floods, extreme temperatures (% of p...  EN.CLC.MDAT.ZS   \n",
       "4809353  Droughts, floods, extreme temperatures (% of p...  EN.CLC.MDAT.ZS   \n",
       "4692398  Droughts, floods, extreme temperatures (% of p...  EN.CLC.MDAT.ZS   \n",
       "4746524  Droughts, floods, extreme temperatures (% of p...  EN.CLC.MDAT.ZS   \n",
       "4837607  Droughts, floods, extreme temperatures (% of p...  EN.CLC.MDAT.ZS   \n",
       "4821399  Droughts, floods, extreme temperatures (% of p...  EN.CLC.MDAT.ZS   \n",
       "4780857  Droughts, floods, extreme temperatures (% of p...  EN.CLC.MDAT.ZS   \n",
       "4762874  Droughts, floods, extreme temperatures (% of p...  EN.CLC.MDAT.ZS   \n",
       "4782341  Droughts, floods, extreme temperatures (% of p...  EN.CLC.MDAT.ZS   \n",
       "\n",
       "         Year     Value  \n",
       "4816307  2009  9.226586  \n",
       "4769093  2009  8.820493  \n",
       "4712200  2009  7.950971  \n",
       "4786555  2009  7.525066  \n",
       "4728135  2009  7.323483  \n",
       "4741711  2009  7.170624  \n",
       "4722243  2009  6.796847  \n",
       "4707144  2009  6.643791  \n",
       "4755695  2009  6.477853  \n",
       "4819509  2009  5.378086  \n",
       "4683056  2009  5.269577  \n",
       "4756565  2009  5.002999  \n",
       "4809353  2009  4.603689  \n",
       "4692398  2009  4.584694  \n",
       "4746524  2009  4.356109  \n",
       "4837607  2009  4.199677  \n",
       "4821399  2009  3.751099  \n",
       "4780857  2009  3.662448  \n",
       "4762874  2009  3.402651  \n",
       "4782341  2009  3.401434  "
      ]
     },
     "execution_count": 20,
     "metadata": {},
     "output_type": "execute_result"
    }
   ],
   "source": [
    "df1.sort_values(by = ['Value'], ascending = False).head(20)"
   ]
  },
  {
   "cell_type": "markdown",
   "metadata": {},
   "source": [
    "**Map disaster events e.g. droughts, floods, extreme temperature**"
   ]
  },
  {
   "cell_type": "code",
   "execution_count": 6,
   "metadata": {},
   "outputs": [],
   "source": [
    "import folium\n",
    "map = folium.Map(location = [0, 0], zoom_start = 2)"
   ]
  },
  {
   "cell_type": "code",
   "execution_count": 7,
   "metadata": {},
   "outputs": [
    {
     "data": {
      "text/plain": [
       "<folium.features.Choropleth at 0x7f7803647c50>"
      ]
     },
     "execution_count": 7,
     "metadata": {},
     "output_type": "execute_result"
    }
   ],
   "source": [
    "plot_data = df1[['CountryCode','Value']]\n",
    "hist_indicator = df1.iloc[0]['IndicatorName']\n",
    "country_geo = './Week5-Visualization/folium/examples/data/world-countries.json'\n",
    "\n",
    "folium.Choropleth(geo_data = country_geo, data = plot_data, \n",
    "                  columns = ['CountryCode', 'Value'], key_on = 'feature.id', \n",
    "                  fill_color = 'YlOrRd', fill_opacity = 0.7, line_opacity = 0.2, \n",
    "                  legend_name = hist_indicator).add_to(map)"
   ]
  },
  {
   "cell_type": "code",
   "execution_count": 8,
   "metadata": {},
   "outputs": [
    {
     "data": {
      "text/html": [
       "\n",
       "        <iframe\n",
       "            width=\"900\"\n",
       "            height=\"450\"\n",
       "            src=\"mini_project_fig1.html\"\n",
       "            frameborder=\"0\"\n",
       "            allowfullscreen\n",
       "        ></iframe>\n",
       "        "
      ],
      "text/plain": [
       "<IPython.lib.display.IFrame at 0x7f77d5317e10>"
      ]
     },
     "execution_count": 8,
     "metadata": {},
     "output_type": "execute_result"
    }
   ],
   "source": [
    "map.save('mini_project_fig1.html')\n",
    "\n",
    "from IPython.display import IFrame\n",
    "IFrame('mini_project_fig1.html', width=900, height=450)"
   ]
  },
  {
   "cell_type": "markdown",
   "metadata": {},
   "source": [
    "**Prepare data for CO2 emissions, visualize in global level**"
   ]
  },
  {
   "cell_type": "code",
   "execution_count": 27,
   "metadata": {},
   "outputs": [
    {
     "data": {
      "text/plain": [
       "array(['Arab World', 'Caribbean small states',\n",
       "       'Central Europe and the Baltics',\n",
       "       'East Asia & Pacific (all income levels)',\n",
       "       'East Asia & Pacific (developing only)', 'Euro area',\n",
       "       'European Union', 'Fragile and conflict affected situations',\n",
       "       'Heavily indebted poor countries (HIPC)', 'High income',\n",
       "       'High income: OECD',\n",
       "       'Latin America & Caribbean (all income levels)',\n",
       "       'Latin America & Caribbean (developing only)',\n",
       "       'Least developed countries: UN classification',\n",
       "       'Low & middle income', 'Lower middle income',\n",
       "       'Middle East & North Africa (all income levels)',\n",
       "       'Middle East & North Africa (developing only)', 'Middle income',\n",
       "       'North America', 'OECD members', 'Pacific island small states',\n",
       "       'Small states', 'South Asia',\n",
       "       'Sub-Saharan Africa (all income levels)',\n",
       "       'Sub-Saharan Africa (developing only)', 'Upper middle income',\n",
       "       'World', 'Afghanistan', 'Albania', 'Algeria', 'Angola',\n",
       "       'Antigua and Barbuda', 'Argentina', 'Australia', 'Austria',\n",
       "       'Bahamas, The', 'Bahrain', 'Barbados', 'Belgium', 'Belize',\n",
       "       'Benin', 'Bermuda', 'Bolivia', 'Brazil', 'Brunei Darussalam',\n",
       "       'Bulgaria', 'Burkina Faso', 'Cabo Verde', 'Cambodia', 'Cameroon',\n",
       "       'Canada', 'Cayman Islands', 'Central African Republic', 'Chad',\n",
       "       'Chile', 'China', 'Colombia', 'Comoros', 'Congo, Dem. Rep.',\n",
       "       'Congo, Rep.', 'Costa Rica', \"Cote d'Ivoire\", 'Cuba', 'Cyprus',\n",
       "       'Denmark', 'Djibouti', 'Dominica', 'Dominican Republic', 'Ecuador',\n",
       "       'Egypt, Arab Rep.', 'El Salvador', 'Equatorial Guinea', 'Ethiopia',\n",
       "       'Faeroe Islands', 'Fiji', 'Finland', 'France', 'French Polynesia',\n",
       "       'Gabon', 'Gambia, The', 'Ghana', 'Greece', 'Greenland', 'Grenada',\n",
       "       'Guatemala', 'Guinea', 'Guinea-Bissau', 'Guyana', 'Haiti',\n",
       "       'Honduras', 'Hong Kong SAR, China', 'Hungary', 'Iceland', 'India',\n",
       "       'Indonesia', 'Iran, Islamic Rep.', 'Iraq', 'Ireland', 'Israel',\n",
       "       'Italy', 'Jamaica', 'Japan', 'Jordan', 'Kenya', 'Korea, Rep.',\n",
       "       'Kuwait', 'Lao PDR', 'Lebanon', 'Liberia', 'Libya', 'Luxembourg',\n",
       "       'Macao SAR, China', 'Madagascar', 'Mali', 'Malta', 'Mauritania',\n",
       "       'Mauritius', 'Mexico', 'Mongolia', 'Morocco', 'Mozambique',\n",
       "       'Myanmar', 'Nepal', 'Netherlands', 'New Caledonia', 'New Zealand',\n",
       "       'Nicaragua', 'Niger', 'Nigeria', 'Norway', 'Pakistan', 'Palau',\n",
       "       'Panama', 'Papua New Guinea', 'Paraguay', 'Peru', 'Philippines',\n",
       "       'Poland', 'Portugal', 'Qatar', 'Romania', 'Rwanda', 'Samoa',\n",
       "       'Sao Tome and Principe', 'Saudi Arabia', 'Senegal', 'Sierra Leone',\n",
       "       'Singapore', 'Solomon Islands', 'Somalia', 'South Africa', 'Spain',\n",
       "       'Sri Lanka', 'St. Kitts and Nevis', 'St. Lucia',\n",
       "       'St. Vincent and the Grenadines', 'Sudan', 'Suriname', 'Swaziland',\n",
       "       'Sweden', 'Switzerland', 'Syrian Arab Republic', 'Tanzania',\n",
       "       'Thailand', 'Togo', 'Tonga', 'Trinidad and Tobago', 'Tunisia',\n",
       "       'Turkey', 'Uganda', 'United Arab Emirates', 'United Kingdom',\n",
       "       'United States', 'Uruguay', 'Venezuela, RB', 'Vietnam',\n",
       "       'Yemen, Rep.', 'Kiribati', 'Burundi', 'Vanuatu', 'Seychelles',\n",
       "       'Malawi', 'Oman', 'Zambia', 'Zimbabwe', 'Bhutan', 'Malaysia',\n",
       "       'Maldives', 'Other small states', 'Bangladesh', 'Botswana',\n",
       "       'Aruba', 'Marshall Islands', 'Namibia', 'Germany',\n",
       "       'Europe & Central Asia (all income levels)',\n",
       "       'Europe & Central Asia (developing only)', 'High income: nonOECD',\n",
       "       'Armenia', 'Azerbaijan', 'Belarus', 'Bosnia and Herzegovina',\n",
       "       'Croatia', 'Czech Republic', 'Estonia', 'Georgia', 'Kazakhstan',\n",
       "       'Kyrgyz Republic', 'Latvia', 'Lithuania', 'Macedonia, FYR',\n",
       "       'Moldova', 'Russian Federation', 'Slovak Republic', 'Slovenia',\n",
       "       'Tajikistan', 'Turkmenistan', 'Ukraine', 'Uzbekistan', 'Eritrea',\n",
       "       'Andorra', 'Turks and Caicos Islands', 'Micronesia, Fed. Sts.',\n",
       "       'West Bank and Gaza', 'Low income', 'Korea, Dem. Rep.',\n",
       "       'Timor-Leste', 'Lesotho', 'Montenegro', 'Serbia', 'Liechtenstein'],\n",
       "      dtype=object)"
      ]
     },
     "execution_count": 27,
     "metadata": {},
     "output_type": "execute_result"
    }
   ],
   "source": [
    "data[data.IndicatorName == 'CO2 emissions (metric tons per capita)'].CountryName.unique()"
   ]
  },
  {
   "cell_type": "code",
   "execution_count": 3,
   "metadata": {},
   "outputs": [
    {
     "data": {
      "text/plain": [
       "(52, 6)"
      ]
     },
     "execution_count": 3,
     "metadata": {},
     "output_type": "execute_result"
    }
   ],
   "source": [
    "cond1 = data.IndicatorName == 'CO2 emissions (metric tons per capita)'\n",
    "cond2 = data.CountryName == 'World'\n",
    "cond3 = cond1 & cond2\n",
    "df2 = data[cond3]\n",
    "df2.shape"
   ]
  },
  {
   "cell_type": "code",
   "execution_count": 31,
   "metadata": {},
   "outputs": [
    {
     "data": {
      "text/plain": [
       "52"
      ]
     },
     "execution_count": 31,
     "metadata": {},
     "output_type": "execute_result"
    }
   ],
   "source": [
    "len(df2.Year)"
   ]
  },
  {
   "cell_type": "code",
   "execution_count": 32,
   "metadata": {},
   "outputs": [
    {
     "data": {
      "text/plain": [
       "Text(0.5, 1.0, \"World's GHG emission/removal over time\")"
      ]
     },
     "execution_count": 32,
     "metadata": {},
     "output_type": "execute_result"
    },
    {
     "data": {
      "image/png": "[encoded data removed]",
      "text/plain": [
       "<Figure size 432x288 with 1 Axes>"
      ]
     },
     "metadata": {
      "needs_background": "light"
     },
     "output_type": "display_data"
    }
   ],
   "source": [
    "import matplotlib.pyplot as plt\n",
    "\n",
    "%matplotlib inline\n",
    "\n",
    "plt.plot(df2.Year, df2.Value)\n",
    "plt.xlabel('Year')\n",
    "plt.ylabel(df2.iloc[0]['IndicatorName'])\n",
    "plt.title(\"World's GHG emission/removal over time\")"
   ]
  },
  {
   "cell_type": "markdown",
   "metadata": {},
   "source": [
    "**Join both datasets (extreme temperature and CO2 emission), select year 1990 and 2009**"
   ]
  },
  {
   "cell_type": "code",
   "execution_count": 39,
   "metadata": {},
   "outputs": [
    {
     "data": {
      "text/plain": [
       "232"
      ]
     },
     "execution_count": 39,
     "metadata": {},
     "output_type": "execute_result"
    }
   ],
   "source": [
    "len(data[data.IndicatorName == 'CO2 emissions (metric tons per capita)'].CountryCode.unique())"
   ]
  },
  {
   "cell_type": "code",
   "execution_count": 40,
   "metadata": {},
   "outputs": [],
   "source": [
    "cond4 = data.Year == 1990 \n",
    "cond5 = data.Year == 2009\n",
    "cond6 = cond1 & (cond4 | cond5)\n",
    "\n",
    "df3 = data[cond6]\n",
    "\n",
    "df3 = df3[df3.CountryCode.isin(df1.CountryCode)]"
   ]
  },
  {
   "cell_type": "code",
   "execution_count": 41,
   "metadata": {},
   "outputs": [
    {
     "data": {
      "text/plain": [
       "166"
      ]
     },
     "execution_count": 41,
     "metadata": {},
     "output_type": "execute_result"
    }
   ],
   "source": [
    "len(df3.CountryCode.unique())"
   ]
  },
  {
   "cell_type": "code",
   "execution_count": 42,
   "metadata": {},
   "outputs": [],
   "source": [
    "df1 = df1[df1.CountryCode.isin(df3.CountryCode.unique())]"
   ]
  },
  {
   "cell_type": "code",
   "execution_count": 43,
   "metadata": {},
   "outputs": [
    {
     "data": {
      "text/plain": [
       "(166, 6)"
      ]
     },
     "execution_count": 43,
     "metadata": {},
     "output_type": "execute_result"
    }
   ],
   "source": [
    "df1.shape"
   ]
  },
  {
   "cell_type": "code",
   "execution_count": 44,
   "metadata": {},
   "outputs": [
    {
     "data": {
      "text/html": [
       "<div>\n",
       "<style scoped>\n",
       "    .dataframe tbody tr th:only-of-type {\n",
       "        vertical-align: middle;\n",
       "    }\n",
       "\n",
       "    .dataframe tbody tr th {\n",
       "        vertical-align: top;\n",
       "    }\n",
       "\n",
       "    .dataframe thead th {\n",
       "        text-align: right;\n",
       "    }\n",
       "</style>\n",
       "<table border=\"1\" class=\"dataframe\">\n",
       "  <thead>\n",
       "    <tr style=\"text-align: right;\">\n",
       "      <th></th>\n",
       "      <th>CountryName</th>\n",
       "      <th>CountryCode</th>\n",
       "      <th>IndicatorName</th>\n",
       "      <th>IndicatorCode</th>\n",
       "      <th>Year</th>\n",
       "      <th>Value</th>\n",
       "    </tr>\n",
       "  </thead>\n",
       "  <tbody>\n",
       "    <tr>\n",
       "      <th>1977955</th>\n",
       "      <td>Somalia</td>\n",
       "      <td>SOM</td>\n",
       "      <td>CO2 emissions (metric tons per capita)</td>\n",
       "      <td>EN.ATM.CO2E.PC</td>\n",
       "      <td>1990</td>\n",
       "      <td>0.002900</td>\n",
       "    </tr>\n",
       "    <tr>\n",
       "      <th>1959759</th>\n",
       "      <td>Namibia</td>\n",
       "      <td>NAM</td>\n",
       "      <td>CO2 emissions (metric tons per capita)</td>\n",
       "      <td>EN.ATM.CO2E.PC</td>\n",
       "      <td>1990</td>\n",
       "      <td>0.018135</td>\n",
       "    </tr>\n",
       "    <tr>\n",
       "      <th>4705225</th>\n",
       "      <td>Burundi</td>\n",
       "      <td>BDI</td>\n",
       "      <td>CO2 emissions (metric tons per capita)</td>\n",
       "      <td>EN.ATM.CO2E.PC</td>\n",
       "      <td>2009</td>\n",
       "      <td>0.020868</td>\n",
       "    </tr>\n",
       "    <tr>\n",
       "      <th>1913419</th>\n",
       "      <td>Chad</td>\n",
       "      <td>TCD</td>\n",
       "      <td>CO2 emissions (metric tons per capita)</td>\n",
       "      <td>EN.ATM.CO2E.PC</td>\n",
       "      <td>1990</td>\n",
       "      <td>0.024619</td>\n",
       "    </tr>\n",
       "    <tr>\n",
       "      <th>1960213</th>\n",
       "      <td>Nepal</td>\n",
       "      <td>NPL</td>\n",
       "      <td>CO2 emissions (metric tons per capita)</td>\n",
       "      <td>EN.ATM.CO2E.PC</td>\n",
       "      <td>1990</td>\n",
       "      <td>0.033849</td>\n",
       "    </tr>\n",
       "    <tr>\n",
       "      <th>4710526</th>\n",
       "      <td>Chad</td>\n",
       "      <td>TCD</td>\n",
       "      <td>CO2 emissions (metric tons per capita)</td>\n",
       "      <td>EN.ATM.CO2E.PC</td>\n",
       "      <td>2009</td>\n",
       "      <td>0.042689</td>\n",
       "    </tr>\n",
       "    <tr>\n",
       "      <th>4714844</th>\n",
       "      <td>Congo, Dem. Rep.</td>\n",
       "      <td>ZAR</td>\n",
       "      <td>CO2 emissions (metric tons per capita)</td>\n",
       "      <td>EN.ATM.CO2E.PC</td>\n",
       "      <td>2009</td>\n",
       "      <td>0.045604</td>\n",
       "    </tr>\n",
       "    <tr>\n",
       "      <th>1990948</th>\n",
       "      <td>Uganda</td>\n",
       "      <td>UGA</td>\n",
       "      <td>CO2 emissions (metric tons per capita)</td>\n",
       "      <td>EN.ATM.CO2E.PC</td>\n",
       "      <td>1990</td>\n",
       "      <td>0.046195</td>\n",
       "    </tr>\n",
       "    <tr>\n",
       "      <th>1953142</th>\n",
       "      <td>Mali</td>\n",
       "      <td>MLI</td>\n",
       "      <td>CO2 emissions (metric tons per capita)</td>\n",
       "      <td>EN.ATM.CO2E.PC</td>\n",
       "      <td>1990</td>\n",
       "      <td>0.049717</td>\n",
       "    </tr>\n",
       "    <tr>\n",
       "      <th>1910981</th>\n",
       "      <td>Cambodia</td>\n",
       "      <td>KHM</td>\n",
       "      <td>CO2 emissions (metric tons per capita)</td>\n",
       "      <td>EN.ATM.CO2E.PC</td>\n",
       "      <td>1990</td>\n",
       "      <td>0.050066</td>\n",
       "    </tr>\n",
       "  </tbody>\n",
       "</table>\n",
       "</div>"
      ],
      "text/plain": [
       "              CountryName CountryCode                           IndicatorName  \\\n",
       "1977955           Somalia         SOM  CO2 emissions (metric tons per capita)   \n",
       "1959759           Namibia         NAM  CO2 emissions (metric tons per capita)   \n",
       "4705225           Burundi         BDI  CO2 emissions (metric tons per capita)   \n",
       "1913419              Chad         TCD  CO2 emissions (metric tons per capita)   \n",
       "1960213             Nepal         NPL  CO2 emissions (metric tons per capita)   \n",
       "4710526              Chad         TCD  CO2 emissions (metric tons per capita)   \n",
       "4714844  Congo, Dem. Rep.         ZAR  CO2 emissions (metric tons per capita)   \n",
       "1990948            Uganda         UGA  CO2 emissions (metric tons per capita)   \n",
       "1953142              Mali         MLI  CO2 emissions (metric tons per capita)   \n",
       "1910981          Cambodia         KHM  CO2 emissions (metric tons per capita)   \n",
       "\n",
       "          IndicatorCode  Year     Value  \n",
       "1977955  EN.ATM.CO2E.PC  1990  0.002900  \n",
       "1959759  EN.ATM.CO2E.PC  1990  0.018135  \n",
       "4705225  EN.ATM.CO2E.PC  2009  0.020868  \n",
       "1913419  EN.ATM.CO2E.PC  1990  0.024619  \n",
       "1960213  EN.ATM.CO2E.PC  1990  0.033849  \n",
       "4710526  EN.ATM.CO2E.PC  2009  0.042689  \n",
       "4714844  EN.ATM.CO2E.PC  2009  0.045604  \n",
       "1990948  EN.ATM.CO2E.PC  1990  0.046195  \n",
       "1953142  EN.ATM.CO2E.PC  1990  0.049717  \n",
       "1910981  EN.ATM.CO2E.PC  1990  0.050066  "
      ]
     },
     "execution_count": 44,
     "metadata": {},
     "output_type": "execute_result"
    }
   ],
   "source": [
    "df3.sort_values(by = ['Value']).head(10)"
   ]
  },
  {
   "cell_type": "code",
   "execution_count": 45,
   "metadata": {},
   "outputs": [
    {
     "data": {
      "text/html": [
       "<div>\n",
       "<style scoped>\n",
       "    .dataframe tbody tr th:only-of-type {\n",
       "        vertical-align: middle;\n",
       "    }\n",
       "\n",
       "    .dataframe tbody tr th {\n",
       "        vertical-align: top;\n",
       "    }\n",
       "\n",
       "    .dataframe thead th {\n",
       "        text-align: right;\n",
       "    }\n",
       "</style>\n",
       "<table border=\"1\" class=\"dataframe\">\n",
       "  <thead>\n",
       "    <tr style=\"text-align: right;\">\n",
       "      <th></th>\n",
       "      <th>CountryName</th>\n",
       "      <th>CountryCode</th>\n",
       "      <th>IndicatorName</th>\n",
       "      <th>IndicatorCode</th>\n",
       "      <th>Year</th>\n",
       "      <th>Value</th>\n",
       "    </tr>\n",
       "  </thead>\n",
       "  <tbody>\n",
       "    <tr>\n",
       "      <th>1912206</th>\n",
       "      <td>Canada</td>\n",
       "      <td>CAN</td>\n",
       "      <td>CO2 emissions (metric tons per capita)</td>\n",
       "      <td>EN.ATM.CO2E.PC</td>\n",
       "      <td>1990</td>\n",
       "      <td>15.659070</td>\n",
       "    </tr>\n",
       "    <tr>\n",
       "      <th>4831320</th>\n",
       "      <td>United States</td>\n",
       "      <td>USA</td>\n",
       "      <td>CO2 emissions (metric tons per capita)</td>\n",
       "      <td>EN.ATM.CO2E.PC</td>\n",
       "      <td>2009</td>\n",
       "      <td>17.192379</td>\n",
       "    </tr>\n",
       "    <tr>\n",
       "      <th>4688621</th>\n",
       "      <td>Australia</td>\n",
       "      <td>AUS</td>\n",
       "      <td>CO2 emissions (metric tons per capita)</td>\n",
       "      <td>EN.ATM.CO2E.PC</td>\n",
       "      <td>2009</td>\n",
       "      <td>17.631833</td>\n",
       "    </tr>\n",
       "    <tr>\n",
       "      <th>4802583</th>\n",
       "      <td>Saudi Arabia</td>\n",
       "      <td>SAU</td>\n",
       "      <td>CO2 emissions (metric tons per capita)</td>\n",
       "      <td>EN.ATM.CO2E.PC</td>\n",
       "      <td>2009</td>\n",
       "      <td>17.690225</td>\n",
       "    </tr>\n",
       "    <tr>\n",
       "      <th>1992771</th>\n",
       "      <td>United States</td>\n",
       "      <td>USA</td>\n",
       "      <td>CO2 emissions (metric tons per capita)</td>\n",
       "      <td>EN.ATM.CO2E.PC</td>\n",
       "      <td>1990</td>\n",
       "      <td>19.323368</td>\n",
       "    </tr>\n",
       "    <tr>\n",
       "      <th>4765823</th>\n",
       "      <td>Luxembourg</td>\n",
       "      <td>LUX</td>\n",
       "      <td>CO2 emissions (metric tons per capita)</td>\n",
       "      <td>EN.ATM.CO2E.PC</td>\n",
       "      <td>2009</td>\n",
       "      <td>20.877125</td>\n",
       "    </tr>\n",
       "    <tr>\n",
       "      <th>1945938</th>\n",
       "      <td>Kuwait</td>\n",
       "      <td>KWT</td>\n",
       "      <td>CO2 emissions (metric tons per capita)</td>\n",
       "      <td>EN.ATM.CO2E.PC</td>\n",
       "      <td>1990</td>\n",
       "      <td>23.466084</td>\n",
       "    </tr>\n",
       "    <tr>\n",
       "      <th>1949490</th>\n",
       "      <td>Luxembourg</td>\n",
       "      <td>LUX</td>\n",
       "      <td>CO2 emissions (metric tons per capita)</td>\n",
       "      <td>EN.ATM.CO2E.PC</td>\n",
       "      <td>1990</td>\n",
       "      <td>26.197659</td>\n",
       "    </tr>\n",
       "    <tr>\n",
       "      <th>4758533</th>\n",
       "      <td>Kuwait</td>\n",
       "      <td>KWT</td>\n",
       "      <td>CO2 emissions (metric tons per capita)</td>\n",
       "      <td>EN.ATM.CO2E.PC</td>\n",
       "      <td>2009</td>\n",
       "      <td>29.721704</td>\n",
       "    </tr>\n",
       "    <tr>\n",
       "      <th>4824533</th>\n",
       "      <td>Trinidad and Tobago</td>\n",
       "      <td>TTO</td>\n",
       "      <td>CO2 emissions (metric tons per capita)</td>\n",
       "      <td>EN.ATM.CO2E.PC</td>\n",
       "      <td>2009</td>\n",
       "      <td>36.569448</td>\n",
       "    </tr>\n",
       "  </tbody>\n",
       "</table>\n",
       "</div>"
      ],
      "text/plain": [
       "                 CountryName CountryCode  \\\n",
       "1912206               Canada         CAN   \n",
       "4831320        United States         USA   \n",
       "4688621            Australia         AUS   \n",
       "4802583         Saudi Arabia         SAU   \n",
       "1992771        United States         USA   \n",
       "4765823           Luxembourg         LUX   \n",
       "1945938               Kuwait         KWT   \n",
       "1949490           Luxembourg         LUX   \n",
       "4758533               Kuwait         KWT   \n",
       "4824533  Trinidad and Tobago         TTO   \n",
       "\n",
       "                                  IndicatorName   IndicatorCode  Year  \\\n",
       "1912206  CO2 emissions (metric tons per capita)  EN.ATM.CO2E.PC  1990   \n",
       "4831320  CO2 emissions (metric tons per capita)  EN.ATM.CO2E.PC  2009   \n",
       "4688621  CO2 emissions (metric tons per capita)  EN.ATM.CO2E.PC  2009   \n",
       "4802583  CO2 emissions (metric tons per capita)  EN.ATM.CO2E.PC  2009   \n",
       "1992771  CO2 emissions (metric tons per capita)  EN.ATM.CO2E.PC  1990   \n",
       "4765823  CO2 emissions (metric tons per capita)  EN.ATM.CO2E.PC  2009   \n",
       "1945938  CO2 emissions (metric tons per capita)  EN.ATM.CO2E.PC  1990   \n",
       "1949490  CO2 emissions (metric tons per capita)  EN.ATM.CO2E.PC  1990   \n",
       "4758533  CO2 emissions (metric tons per capita)  EN.ATM.CO2E.PC  2009   \n",
       "4824533  CO2 emissions (metric tons per capita)  EN.ATM.CO2E.PC  2009   \n",
       "\n",
       "             Value  \n",
       "1912206  15.659070  \n",
       "4831320  17.192379  \n",
       "4688621  17.631833  \n",
       "4802583  17.690225  \n",
       "1992771  19.323368  \n",
       "4765823  20.877125  \n",
       "1945938  23.466084  \n",
       "1949490  26.197659  \n",
       "4758533  29.721704  \n",
       "4824533  36.569448  "
      ]
     },
     "execution_count": 45,
     "metadata": {},
     "output_type": "execute_result"
    }
   ],
   "source": [
    "df3.sort_values(by = ['Value']).tail(10)"
   ]
  },
  {
   "cell_type": "code",
   "execution_count": 46,
   "metadata": {},
   "outputs": [
    {
     "name": "stderr",
     "output_type": "stream",
     "text": [
      "/home/ornwipa/anaconda3/lib/python3.7/site-packages/ipykernel_launcher.py:3: UserWarning: Boolean Series key will be reindexed to match DataFrame index.\n",
      "  This is separate from the ipykernel package so we can avoid doing imports until\n",
      "/home/ornwipa/anaconda3/lib/python3.7/site-packages/ipykernel_launcher.py:5: UserWarning: Boolean Series key will be reindexed to match DataFrame index.\n",
      "  \"\"\"\n",
      "/home/ornwipa/anaconda3/lib/python3.7/site-packages/ipykernel_launcher.py:6: UserWarning: Boolean Series key will be reindexed to match DataFrame index.\n",
      "  \n"
     ]
    }
   ],
   "source": [
    "import numpy as np\n",
    "\n",
    "Y_1990 = df1[df1.CountryCode.isin(df3[cond4].CountryCode.unique())].sort_values(by = ['CountryCode']).Value\n",
    "Y_2009 = df1.sort_values(by = ['CountryCode']).Value\n",
    "X_1990 = np.log(df3[cond4].sort_values(by = ['CountryCode']).Value)\n",
    "X_2009 = np.log(df3[cond5].sort_values(by = ['CountryCode']).Value)"
   ]
  },
  {
   "cell_type": "code",
   "execution_count": 47,
   "metadata": {},
   "outputs": [
    {
     "data": {
      "text/plain": [
       "(137,)"
      ]
     },
     "execution_count": 47,
     "metadata": {},
     "output_type": "execute_result"
    }
   ],
   "source": [
    "X_1990.shape"
   ]
  },
  {
   "cell_type": "code",
   "execution_count": 48,
   "metadata": {},
   "outputs": [
    {
     "data": {
      "image/png": "[encoded data removed]",
      "text/plain": [
       "<Figure size 1080x360 with 2 Axes>"
      ]
     },
     "metadata": {
      "needs_background": "light"
     },
     "output_type": "display_data"
    }
   ],
   "source": [
    "fig, axes = plt.subplots(nrows = 1, ncols = 2, figsize = (15, 5))\n",
    "axes[0].scatter(X_1990, Y_1990)\n",
    "axes[1].scatter(X_2009, Y_2009)\n",
    "j = 1\n",
    "for axis in axes:\n",
    "    axis.set_xlabel('log(CO2 emission in metric tons per capita)', fontsize = 16)\n",
    "    axis.set_ylabel('flood, drought, extreme temperature', fontsize = 16)\n",
    "    axis.set_title(df3.iloc[j]['Year'], fontsize = 18)\n",
    "    j = -1"
   ]
  },
  {
   "cell_type": "markdown",
   "metadata": {},
   "source": [
    "**Find difference in trend of CO2 emission over time**"
   ]
  },
  {
   "cell_type": "code",
   "execution_count": 4,
   "metadata": {},
   "outputs": [
    {
     "data": {
      "text/plain": [
       "(156, 6)"
      ]
     },
     "execution_count": 4,
     "metadata": {},
     "output_type": "execute_result"
    }
   ],
   "source": [
    "cond7 = data.CountryName == 'High income'\n",
    "cond8 = data.CountryName == 'Low & middle income'\n",
    "cond9 = cond1 & (cond2 | cond7 | cond8)\n",
    "\n",
    "df4 = data[cond9]\n",
    "df4.shape"
   ]
  },
  {
   "cell_type": "code",
   "execution_count": 5,
   "metadata": {},
   "outputs": [],
   "source": [
    "import altair as alt"
   ]
  },
  {
   "cell_type": "code",
   "execution_count": 6,
   "metadata": {},
   "outputs": [
    {
     "data": {
      "text/html": [
       "\n",
       "<div id=\"altair-viz-cd588b7cf2a24772b08eae70fa1fe671\"></div>\n",
       "<script type=\"text/javascript\">\n",
       "  (function(spec, embedOpt){\n",
       "    let outputDiv = document.currentScript.previousElementSibling;\n",
       "    if (outputDiv.id !== \"altair-viz-cd588b7cf2a24772b08eae70fa1fe671\") {\n",
       "      outputDiv = document.getElementById(\"altair-viz-cd588b7cf2a24772b08eae70fa1fe671\");\n",
       "    }\n",
       "    const paths = {\n",
       "      \"vega\": \"https://cdn.jsdelivr.net/npm//vega@5?noext\",\n",
       "      \"vega-lib\": \"https://cdn.jsdelivr.net/npm//vega-lib?noext\",\n",
       "      \"vega-lite\": \"https://cdn.jsdelivr.net/npm//vega-lite@4.8.1?noext\",\n",
       "      \"vega-embed\": \"https://cdn.jsdelivr.net/npm//vega-embed@6?noext\",\n",
       "    };\n",
       "\n",
       "    function loadScript(lib) {\n",
       "      return new Promise(function(resolve, reject) {\n",
       "        var s = document.createElement('script');\n",
       "        s.src = paths[lib];\n",
       "        s.async = true;\n",
       "        s.onload = () => resolve(paths[lib]);\n",
       "        s.onerror = () => reject(`Error loading script: ${paths[lib]}`);\n",
       "        document.getElementsByTagName(\"head\")[0].appendChild(s);\n",
       "      });\n",
       "    }\n",
       "\n",
       "    function showError(err) {\n",
       "      outputDiv.innerHTML = `<div class=\"error\" style=\"color:red;\">${err}</div>`;\n",
       "      throw err;\n",
       "    }\n",
       "\n",
       "    function displayChart(vegaEmbed) {\n",
       "      vegaEmbed(outputDiv, spec, embedOpt)\n",
       "        .catch(err => showError(`Javascript Error: ${err.message}<br>This usually means there's a typo in your chart specification. See the javascript console for the full traceback.`));\n",
       "    }\n",
       "\n",
       "    if(typeof define === \"function\" && define.amd) {\n",
       "      requirejs.config({paths});\n",
       "      require([\"vega-embed\"], displayChart, err => showError(`Error loading script: ${err.message}`));\n",
       "    } else if (typeof vegaEmbed === \"function\") {\n",
       "      displayChart(vegaEmbed);\n",
       "    } else {\n",
       "      loadScript(\"vega\")\n",
       "        .then(() => loadScript(\"vega-lite\"))\n",
       "        .then(() => loadScript(\"vega-embed\"))\n",
       "        .catch(showError)\n",
       "        .then(() => displayChart(vegaEmbed));\n",
       "    }\n",
       "  })({\"config\": {\"view\": {\"continuousWidth\": 400, \"continuousHeight\": 300}, \"axis\": {\"labelFontSize\": 14, \"titleFontSize\": 14}, \"legend\": {\"titleFontSize\": 16}}, \"data\": {\"name\": \"data-1a83f3f592d0fd9216ba1b4da5be54bb\"}, \"mark\": \"line\", \"encoding\": {\"color\": {\"type\": \"nominal\", \"field\": \"CountryName\", \"legend\": {\"title\": \"Countries/Regions\"}, \"scale\": {\"scheme\": \"dark2\"}}, \"x\": {\"type\": \"quantitative\", \"field\": \"Year\"}, \"y\": {\"type\": \"quantitative\", \"axis\": {\"title\": \"CO2 Emissions in metric ton per capita\"}, \"field\": \"Value\"}}, \"$schema\": \"https://vega.github.io/schema/vega-lite/v4.8.1.json\", \"datasets\": {\"data-1a83f3f592d0fd9216ba1b4da5be54bb\": [{\"CountryName\": \"High income\", \"CountryCode\": \"HIC\", \"IndicatorName\": \"CO2 emissions (metric tons per capita)\", \"IndicatorCode\": \"EN.ATM.CO2E.PC\", \"Year\": 1960, \"Value\": 7.528170707682309}, {\"CountryName\": \"Low & middle income\", \"CountryCode\": \"LMY\", \"IndicatorName\": \"CO2 emissions (metric tons per capita)\", \"IndicatorCode\": \"EN.ATM.CO2E.PC\", \"Year\": 1960, \"Value\": 0.8254139853319851}, {\"CountryName\": \"World\", \"CountryCode\": \"WLD\", \"IndicatorName\": \"CO2 emissions (metric tons per capita)\", \"IndicatorCode\": \"EN.ATM.CO2E.PC\", \"Year\": 1960, \"Value\": 3.0961439779552298}, {\"CountryName\": \"High income\", \"CountryCode\": \"HIC\", \"IndicatorName\": \"CO2 emissions (metric tons per capita)\", \"IndicatorCode\": \"EN.ATM.CO2E.PC\", \"Year\": 1961, \"Value\": 7.573803372659}, {\"CountryName\": \"Low & middle income\", \"CountryCode\": \"LMY\", \"IndicatorName\": \"CO2 emissions (metric tons per capita)\", \"IndicatorCode\": \"EN.ATM.CO2E.PC\", \"Year\": 1961, \"Value\": 0.7039273422445009}, {\"CountryName\": \"World\", \"CountryCode\": \"WLD\", \"IndicatorName\": \"CO2 emissions (metric tons per capita)\", \"IndicatorCode\": \"EN.ATM.CO2E.PC\", \"Year\": 1961, \"Value\": 3.06706234722748}, {\"CountryName\": \"High income\", \"CountryCode\": \"HIC\", \"IndicatorName\": \"CO2 emissions (metric tons per capita)\", \"IndicatorCode\": \"EN.ATM.CO2E.PC\", \"Year\": 1962, \"Value\": 7.82350801692981}, {\"CountryName\": \"Low & middle income\", \"CountryCode\": \"LMY\", \"IndicatorName\": \"CO2 emissions (metric tons per capita)\", \"IndicatorCode\": \"EN.ATM.CO2E.PC\", \"Year\": 1962, \"Value\": 0.6558394742074829}, {\"CountryName\": \"World\", \"CountryCode\": \"WLD\", \"IndicatorName\": \"CO2 emissions (metric tons per capita)\", \"IndicatorCode\": \"EN.ATM.CO2E.PC\", \"Year\": 1962, \"Value\": 3.1380198745215697}, {\"CountryName\": \"High income\", \"CountryCode\": \"HIC\", \"IndicatorName\": \"CO2 emissions (metric tons per capita)\", \"IndicatorCode\": \"EN.ATM.CO2E.PC\", \"Year\": 1963, \"Value\": 8.14733104947395}, {\"CountryName\": \"Low & middle income\", \"CountryCode\": \"LMY\", \"IndicatorName\": \"CO2 emissions (metric tons per capita)\", \"IndicatorCode\": \"EN.ATM.CO2E.PC\", \"Year\": 1963, \"Value\": 0.663135701537558}, {\"CountryName\": \"World\", \"CountryCode\": \"WLD\", \"IndicatorName\": \"CO2 emissions (metric tons per capita)\", \"IndicatorCode\": \"EN.ATM.CO2E.PC\", \"Year\": 1963, \"Value\": 3.24236388160625}, {\"CountryName\": \"High income\", \"CountryCode\": \"HIC\", \"IndicatorName\": \"CO2 emissions (metric tons per capita)\", \"IndicatorCode\": \"EN.ATM.CO2E.PC\", \"Year\": 1964, \"Value\": 8.457216711738841}, {\"CountryName\": \"Low & middle income\", \"CountryCode\": \"LMY\", \"IndicatorName\": \"CO2 emissions (metric tons per capita)\", \"IndicatorCode\": \"EN.ATM.CO2E.PC\", \"Year\": 1964, \"Value\": 0.6799634306048911}, {\"CountryName\": \"World\", \"CountryCode\": \"WLD\", \"IndicatorName\": \"CO2 emissions (metric tons per capita)\", \"IndicatorCode\": \"EN.ATM.CO2E.PC\", \"Year\": 1964, \"Value\": 3.3586960050234502}, {\"CountryName\": \"High income\", \"CountryCode\": \"HIC\", \"IndicatorName\": \"CO2 emissions (metric tons per capita)\", \"IndicatorCode\": \"EN.ATM.CO2E.PC\", \"Year\": 1965, \"Value\": 8.7285546223017}, {\"CountryName\": \"Low & middle income\", \"CountryCode\": \"LMY\", \"IndicatorName\": \"CO2 emissions (metric tons per capita)\", \"IndicatorCode\": \"EN.ATM.CO2E.PC\", \"Year\": 1965, \"Value\": 0.7212716015474759}, {\"CountryName\": \"World\", \"CountryCode\": \"WLD\", \"IndicatorName\": \"CO2 emissions (metric tons per capita)\", \"IndicatorCode\": \"EN.ATM.CO2E.PC\", \"Year\": 1965, \"Value\": 3.4375952342509706}, {\"CountryName\": \"High income\", \"CountryCode\": \"HIC\", \"IndicatorName\": \"CO2 emissions (metric tons per capita)\", \"IndicatorCode\": \"EN.ATM.CO2E.PC\", \"Year\": 1966, \"Value\": 9.009657427986447}, {\"CountryName\": \"Low & middle income\", \"CountryCode\": \"LMY\", \"IndicatorName\": \"CO2 emissions (metric tons per capita)\", \"IndicatorCode\": \"EN.ATM.CO2E.PC\", \"Year\": 1966, \"Value\": 0.7645608724190359}, {\"CountryName\": \"World\", \"CountryCode\": \"WLD\", \"IndicatorName\": \"CO2 emissions (metric tons per capita)\", \"IndicatorCode\": \"EN.ATM.CO2E.PC\", \"Year\": 1966, \"Value\": 3.53656159613638}, {\"CountryName\": \"High income\", \"CountryCode\": \"HIC\", \"IndicatorName\": \"CO2 emissions (metric tons per capita)\", \"IndicatorCode\": \"EN.ATM.CO2E.PC\", \"Year\": 1967, \"Value\": 9.32456533588515}, {\"CountryName\": \"Low & middle income\", \"CountryCode\": \"LMY\", \"IndicatorName\": \"CO2 emissions (metric tons per capita)\", \"IndicatorCode\": \"EN.ATM.CO2E.PC\", \"Year\": 1967, \"Value\": 0.7283516381182459}, {\"CountryName\": \"World\", \"CountryCode\": \"WLD\", \"IndicatorName\": \"CO2 emissions (metric tons per capita)\", \"IndicatorCode\": \"EN.ATM.CO2E.PC\", \"Year\": 1967, \"Value\": 3.5754551393370004}, {\"CountryName\": \"High income\", \"CountryCode\": \"HIC\", \"IndicatorName\": \"CO2 emissions (metric tons per capita)\", \"IndicatorCode\": \"EN.ATM.CO2E.PC\", \"Year\": 1968, \"Value\": 9.72874379073828}, {\"CountryName\": \"Low & middle income\", \"CountryCode\": \"LMY\", \"IndicatorName\": \"CO2 emissions (metric tons per capita)\", \"IndicatorCode\": \"EN.ATM.CO2E.PC\", \"Year\": 1968, \"Value\": 0.7835267087724801}, {\"CountryName\": \"World\", \"CountryCode\": \"WLD\", \"IndicatorName\": \"CO2 emissions (metric tons per capita)\", \"IndicatorCode\": \"EN.ATM.CO2E.PC\", \"Year\": 1968, \"Value\": 3.68196709525268}, {\"CountryName\": \"High income\", \"CountryCode\": \"HIC\", \"IndicatorName\": \"CO2 emissions (metric tons per capita)\", \"IndicatorCode\": \"EN.ATM.CO2E.PC\", \"Year\": 1969, \"Value\": 10.2517030202953}, {\"CountryName\": \"Low & middle income\", \"CountryCode\": \"LMY\", \"IndicatorName\": \"CO2 emissions (metric tons per capita)\", \"IndicatorCode\": \"EN.ATM.CO2E.PC\", \"Year\": 1969, \"Value\": 0.8499964787388359}, {\"CountryName\": \"World\", \"CountryCode\": \"WLD\", \"IndicatorName\": \"CO2 emissions (metric tons per capita)\", \"IndicatorCode\": \"EN.ATM.CO2E.PC\", \"Year\": 1969, \"Value\": 3.8221693790026}, {\"CountryName\": \"High income\", \"CountryCode\": \"HIC\", \"IndicatorName\": \"CO2 emissions (metric tons per capita)\", \"IndicatorCode\": \"EN.ATM.CO2E.PC\", \"Year\": 1970, \"Value\": 11.0385643010704}, {\"CountryName\": \"Low & middle income\", \"CountryCode\": \"LMY\", \"IndicatorName\": \"CO2 emissions (metric tons per capita)\", \"IndicatorCode\": \"EN.ATM.CO2E.PC\", \"Year\": 1970, \"Value\": 0.9558489571652472}, {\"CountryName\": \"World\", \"CountryCode\": \"WLD\", \"IndicatorName\": \"CO2 emissions (metric tons per capita)\", \"IndicatorCode\": \"EN.ATM.CO2E.PC\", \"Year\": 1970, \"Value\": 4.0134355202454}, {\"CountryName\": \"High income\", \"CountryCode\": \"HIC\", \"IndicatorName\": \"CO2 emissions (metric tons per capita)\", \"IndicatorCode\": \"EN.ATM.CO2E.PC\", \"Year\": 1971, \"Value\": 11.1378635236459}, {\"CountryName\": \"Low & middle income\", \"CountryCode\": \"LMY\", \"IndicatorName\": \"CO2 emissions (metric tons per capita)\", \"IndicatorCode\": \"EN.ATM.CO2E.PC\", \"Year\": 1971, \"Value\": 1.02679952877046}, {\"CountryName\": \"World\", \"CountryCode\": \"WLD\", \"IndicatorName\": \"CO2 emissions (metric tons per capita)\", \"IndicatorCode\": \"EN.ATM.CO2E.PC\", \"Year\": 1971, \"Value\": 4.07304032467334}, {\"CountryName\": \"High income\", \"CountryCode\": \"HIC\", \"IndicatorName\": \"CO2 emissions (metric tons per capita)\", \"IndicatorCode\": \"EN.ATM.CO2E.PC\", \"Year\": 1972, \"Value\": 11.573256753993899}, {\"CountryName\": \"Low & middle income\", \"CountryCode\": \"LMY\", \"IndicatorName\": \"CO2 emissions (metric tons per capita)\", \"IndicatorCode\": \"EN.ATM.CO2E.PC\", \"Year\": 1972, \"Value\": 1.06028234724432}, {\"CountryName\": \"World\", \"CountryCode\": \"WLD\", \"IndicatorName\": \"CO2 emissions (metric tons per capita)\", \"IndicatorCode\": \"EN.ATM.CO2E.PC\", \"Year\": 1972, \"Value\": 4.156808204437271}, {\"CountryName\": \"High income\", \"CountryCode\": \"HIC\", \"IndicatorName\": \"CO2 emissions (metric tons per capita)\", \"IndicatorCode\": \"EN.ATM.CO2E.PC\", \"Year\": 1973, \"Value\": 12.0673580487866}, {\"CountryName\": \"Low & middle income\", \"CountryCode\": \"LMY\", \"IndicatorName\": \"CO2 emissions (metric tons per capita)\", \"IndicatorCode\": \"EN.ATM.CO2E.PC\", \"Year\": 1973, \"Value\": 1.11082377146}, {\"CountryName\": \"World\", \"CountryCode\": \"WLD\", \"IndicatorName\": \"CO2 emissions (metric tons per capita)\", \"IndicatorCode\": \"EN.ATM.CO2E.PC\", \"Year\": 1973, \"Value\": 4.29729164918077}, {\"CountryName\": \"High income\", \"CountryCode\": \"HIC\", \"IndicatorName\": \"CO2 emissions (metric tons per capita)\", \"IndicatorCode\": \"EN.ATM.CO2E.PC\", \"Year\": 1974, \"Value\": 11.6846019372684}, {\"CountryName\": \"Low & middle income\", \"CountryCode\": \"LMY\", \"IndicatorName\": \"CO2 emissions (metric tons per capita)\", \"IndicatorCode\": \"EN.ATM.CO2E.PC\", \"Year\": 1974, \"Value\": 1.12224014164631}, {\"CountryName\": \"World\", \"CountryCode\": \"WLD\", \"IndicatorName\": \"CO2 emissions (metric tons per capita)\", \"IndicatorCode\": \"EN.ATM.CO2E.PC\", \"Year\": 1974, \"Value\": 4.2222320933554505}, {\"CountryName\": \"High income\", \"CountryCode\": \"HIC\", \"IndicatorName\": \"CO2 emissions (metric tons per capita)\", \"IndicatorCode\": \"EN.ATM.CO2E.PC\", \"Year\": 1975, \"Value\": 11.192641727759499}, {\"CountryName\": \"Low & middle income\", \"CountryCode\": \"LMY\", \"IndicatorName\": \"CO2 emissions (metric tons per capita)\", \"IndicatorCode\": \"EN.ATM.CO2E.PC\", \"Year\": 1975, \"Value\": 1.19104772431388}, {\"CountryName\": \"World\", \"CountryCode\": \"WLD\", \"IndicatorName\": \"CO2 emissions (metric tons per capita)\", \"IndicatorCode\": \"EN.ATM.CO2E.PC\", \"Year\": 1975, \"Value\": 4.1187571449755405}, {\"CountryName\": \"High income\", \"CountryCode\": \"HIC\", \"IndicatorName\": \"CO2 emissions (metric tons per capita)\", \"IndicatorCode\": \"EN.ATM.CO2E.PC\", \"Year\": 1976, \"Value\": 11.691667612888}, {\"CountryName\": \"Low & middle income\", \"CountryCode\": \"LMY\", \"IndicatorName\": \"CO2 emissions (metric tons per capita)\", \"IndicatorCode\": \"EN.ATM.CO2E.PC\", \"Year\": 1976, \"Value\": 1.2423635687356598}, {\"CountryName\": \"World\", \"CountryCode\": \"WLD\", \"IndicatorName\": \"CO2 emissions (metric tons per capita)\", \"IndicatorCode\": \"EN.ATM.CO2E.PC\", \"Year\": 1976, \"Value\": 4.28319084123312}, {\"CountryName\": \"High income\", \"CountryCode\": \"HIC\", \"IndicatorName\": \"CO2 emissions (metric tons per capita)\", \"IndicatorCode\": \"EN.ATM.CO2E.PC\", \"Year\": 1977, \"Value\": 11.843033498090401}, {\"CountryName\": \"Low & middle income\", \"CountryCode\": \"LMY\", \"IndicatorName\": \"CO2 emissions (metric tons per capita)\", \"IndicatorCode\": \"EN.ATM.CO2E.PC\", \"Year\": 1977, \"Value\": 1.31393741926918}, {\"CountryName\": \"World\", \"CountryCode\": \"WLD\", \"IndicatorName\": \"CO2 emissions (metric tons per capita)\", \"IndicatorCode\": \"EN.ATM.CO2E.PC\", \"Year\": 1977, \"Value\": 4.34959877779667}, {\"CountryName\": \"High income\", \"CountryCode\": \"HIC\", \"IndicatorName\": \"CO2 emissions (metric tons per capita)\", \"IndicatorCode\": \"EN.ATM.CO2E.PC\", \"Year\": 1978, \"Value\": 12.047580146833804}, {\"CountryName\": \"Low & middle income\", \"CountryCode\": \"LMY\", \"IndicatorName\": \"CO2 emissions (metric tons per capita)\", \"IndicatorCode\": \"EN.ATM.CO2E.PC\", \"Year\": 1978, \"Value\": 1.39087853386386}, {\"CountryName\": \"World\", \"CountryCode\": \"WLD\", \"IndicatorName\": \"CO2 emissions (metric tons per capita)\", \"IndicatorCode\": \"EN.ATM.CO2E.PC\", \"Year\": 1978, \"Value\": 4.32572909293033}, {\"CountryName\": \"High income\", \"CountryCode\": \"HIC\", \"IndicatorName\": \"CO2 emissions (metric tons per capita)\", \"IndicatorCode\": \"EN.ATM.CO2E.PC\", \"Year\": 1979, \"Value\": 12.280488858839801}, {\"CountryName\": \"Low & middle income\", \"CountryCode\": \"LMY\", \"IndicatorName\": \"CO2 emissions (metric tons per capita)\", \"IndicatorCode\": \"EN.ATM.CO2E.PC\", \"Year\": 1979, \"Value\": 1.41879493096522}, {\"CountryName\": \"World\", \"CountryCode\": \"WLD\", \"IndicatorName\": \"CO2 emissions (metric tons per capita)\", \"IndicatorCode\": \"EN.ATM.CO2E.PC\", \"Year\": 1979, \"Value\": 4.48746800075854}, {\"CountryName\": \"High income\", \"CountryCode\": \"HIC\", \"IndicatorName\": \"CO2 emissions (metric tons per capita)\", \"IndicatorCode\": \"EN.ATM.CO2E.PC\", \"Year\": 1980, \"Value\": 11.940319031826697}, {\"CountryName\": \"Low & middle income\", \"CountryCode\": \"LMY\", \"IndicatorName\": \"CO2 emissions (metric tons per capita)\", \"IndicatorCode\": \"EN.ATM.CO2E.PC\", \"Year\": 1980, \"Value\": 1.39350379676852}, {\"CountryName\": \"World\", \"CountryCode\": \"WLD\", \"IndicatorName\": \"CO2 emissions (metric tons per capita)\", \"IndicatorCode\": \"EN.ATM.CO2E.PC\", \"Year\": 1980, \"Value\": 4.3632063701398}, {\"CountryName\": \"High income\", \"CountryCode\": \"HIC\", \"IndicatorName\": \"CO2 emissions (metric tons per capita)\", \"IndicatorCode\": \"EN.ATM.CO2E.PC\", \"Year\": 1981, \"Value\": 11.358344071709098}, {\"CountryName\": \"Low & middle income\", \"CountryCode\": \"LMY\", \"IndicatorName\": \"CO2 emissions (metric tons per capita)\", \"IndicatorCode\": \"EN.ATM.CO2E.PC\", \"Year\": 1981, \"Value\": 1.37689573610211}, {\"CountryName\": \"World\", \"CountryCode\": \"WLD\", \"IndicatorName\": \"CO2 emissions (metric tons per capita)\", \"IndicatorCode\": \"EN.ATM.CO2E.PC\", \"Year\": 1981, \"Value\": 4.15622447557438}, {\"CountryName\": \"High income\", \"CountryCode\": \"HIC\", \"IndicatorName\": \"CO2 emissions (metric tons per capita)\", \"IndicatorCode\": \"EN.ATM.CO2E.PC\", \"Year\": 1982, \"Value\": 10.8560929885588}, {\"CountryName\": \"Low & middle income\", \"CountryCode\": \"LMY\", \"IndicatorName\": \"CO2 emissions (metric tons per capita)\", \"IndicatorCode\": \"EN.ATM.CO2E.PC\", \"Year\": 1982, \"Value\": 1.4351682530280805}, {\"CountryName\": \"World\", \"CountryCode\": \"WLD\", \"IndicatorName\": \"CO2 emissions (metric tons per capita)\", \"IndicatorCode\": \"EN.ATM.CO2E.PC\", \"Year\": 1982, \"Value\": 4.05053957212085}, {\"CountryName\": \"High income\", \"CountryCode\": \"HIC\", \"IndicatorName\": \"CO2 emissions (metric tons per capita)\", \"IndicatorCode\": \"EN.ATM.CO2E.PC\", \"Year\": 1983, \"Value\": 10.7521448579289}, {\"CountryName\": \"Low & middle income\", \"CountryCode\": \"LMY\", \"IndicatorName\": \"CO2 emissions (metric tons per capita)\", \"IndicatorCode\": \"EN.ATM.CO2E.PC\", \"Year\": 1983, \"Value\": 1.46111614595841}, {\"CountryName\": \"World\", \"CountryCode\": \"WLD\", \"IndicatorName\": \"CO2 emissions (metric tons per capita)\", \"IndicatorCode\": \"EN.ATM.CO2E.PC\", \"Year\": 1983, \"Value\": 3.9638704491102006}, {\"CountryName\": \"High income\", \"CountryCode\": \"HIC\", \"IndicatorName\": \"CO2 emissions (metric tons per capita)\", \"IndicatorCode\": \"EN.ATM.CO2E.PC\", \"Year\": 1984, \"Value\": 10.956665507676101}, {\"CountryName\": \"Low & middle income\", \"CountryCode\": \"LMY\", \"IndicatorName\": \"CO2 emissions (metric tons per capita)\", \"IndicatorCode\": \"EN.ATM.CO2E.PC\", \"Year\": 1984, \"Value\": 1.50739771027246}, {\"CountryName\": \"World\", \"CountryCode\": \"WLD\", \"IndicatorName\": \"CO2 emissions (metric tons per capita)\", \"IndicatorCode\": \"EN.ATM.CO2E.PC\", \"Year\": 1984, \"Value\": 4.0365798681040905}, {\"CountryName\": \"High income\", \"CountryCode\": \"HIC\", \"IndicatorName\": \"CO2 emissions (metric tons per capita)\", \"IndicatorCode\": \"EN.ATM.CO2E.PC\", \"Year\": 1985, \"Value\": 11.001594382005598}, {\"CountryName\": \"Low & middle income\", \"CountryCode\": \"LMY\", \"IndicatorName\": \"CO2 emissions (metric tons per capita)\", \"IndicatorCode\": \"EN.ATM.CO2E.PC\", \"Year\": 1985, \"Value\": 1.5717795849663}, {\"CountryName\": \"World\", \"CountryCode\": \"WLD\", \"IndicatorName\": \"CO2 emissions (metric tons per capita)\", \"IndicatorCode\": \"EN.ATM.CO2E.PC\", \"Year\": 1985, \"Value\": 4.08633563717559}, {\"CountryName\": \"High income\", \"CountryCode\": \"HIC\", \"IndicatorName\": \"CO2 emissions (metric tons per capita)\", \"IndicatorCode\": \"EN.ATM.CO2E.PC\", \"Year\": 1986, \"Value\": 10.963748116863101}, {\"CountryName\": \"Low & middle income\", \"CountryCode\": \"LMY\", \"IndicatorName\": \"CO2 emissions (metric tons per capita)\", \"IndicatorCode\": \"EN.ATM.CO2E.PC\", \"Year\": 1986, \"Value\": 1.60783484485336}, {\"CountryName\": \"World\", \"CountryCode\": \"WLD\", \"IndicatorName\": \"CO2 emissions (metric tons per capita)\", \"IndicatorCode\": \"EN.ATM.CO2E.PC\", \"Year\": 1986, \"Value\": 4.1373697101436}, {\"CountryName\": \"High income\", \"CountryCode\": \"HIC\", \"IndicatorName\": \"CO2 emissions (metric tons per capita)\", \"IndicatorCode\": \"EN.ATM.CO2E.PC\", \"Year\": 1987, \"Value\": 11.197442810303599}, {\"CountryName\": \"Low & middle income\", \"CountryCode\": \"LMY\", \"IndicatorName\": \"CO2 emissions (metric tons per capita)\", \"IndicatorCode\": \"EN.ATM.CO2E.PC\", \"Year\": 1987, \"Value\": 1.66145270084172}, {\"CountryName\": \"World\", \"CountryCode\": \"WLD\", \"IndicatorName\": \"CO2 emissions (metric tons per capita)\", \"IndicatorCode\": \"EN.ATM.CO2E.PC\", \"Year\": 1987, \"Value\": 4.16590367799836}, {\"CountryName\": \"High income\", \"CountryCode\": \"HIC\", \"IndicatorName\": \"CO2 emissions (metric tons per capita)\", \"IndicatorCode\": \"EN.ATM.CO2E.PC\", \"Year\": 1988, \"Value\": 11.5227058603948}, {\"CountryName\": \"Low & middle income\", \"CountryCode\": \"LMY\", \"IndicatorName\": \"CO2 emissions (metric tons per capita)\", \"IndicatorCode\": \"EN.ATM.CO2E.PC\", \"Year\": 1988, \"Value\": 1.72101386603164}, {\"CountryName\": \"World\", \"CountryCode\": \"WLD\", \"IndicatorName\": \"CO2 emissions (metric tons per capita)\", \"IndicatorCode\": \"EN.ATM.CO2E.PC\", \"Year\": 1988, \"Value\": 4.24086931612743}, {\"CountryName\": \"High income\", \"CountryCode\": \"HIC\", \"IndicatorName\": \"CO2 emissions (metric tons per capita)\", \"IndicatorCode\": \"EN.ATM.CO2E.PC\", \"Year\": 1989, \"Value\": 11.7089300498896}, {\"CountryName\": \"Low & middle income\", \"CountryCode\": \"LMY\", \"IndicatorName\": \"CO2 emissions (metric tons per capita)\", \"IndicatorCode\": \"EN.ATM.CO2E.PC\", \"Year\": 1989, \"Value\": 1.7418672652774}, {\"CountryName\": \"World\", \"CountryCode\": \"WLD\", \"IndicatorName\": \"CO2 emissions (metric tons per capita)\", \"IndicatorCode\": \"EN.ATM.CO2E.PC\", \"Year\": 1989, \"Value\": 4.2581741211714785}, {\"CountryName\": \"High income\", \"CountryCode\": \"HIC\", \"IndicatorName\": \"CO2 emissions (metric tons per capita)\", \"IndicatorCode\": \"EN.ATM.CO2E.PC\", \"Year\": 1990, \"Value\": 11.4414339847735}, {\"CountryName\": \"Low & middle income\", \"CountryCode\": \"LMY\", \"IndicatorName\": \"CO2 emissions (metric tons per capita)\", \"IndicatorCode\": \"EN.ATM.CO2E.PC\", \"Year\": 1990, \"Value\": 1.70827322291745}, {\"CountryName\": \"World\", \"CountryCode\": \"WLD\", \"IndicatorName\": \"CO2 emissions (metric tons per capita)\", \"IndicatorCode\": \"EN.ATM.CO2E.PC\", \"Year\": 1990, \"Value\": 4.202548925367741}, {\"CountryName\": \"High income\", \"CountryCode\": \"HIC\", \"IndicatorName\": \"CO2 emissions (metric tons per capita)\", \"IndicatorCode\": \"EN.ATM.CO2E.PC\", \"Year\": 1991, \"Value\": 11.4671665658308}, {\"CountryName\": \"Low & middle income\", \"CountryCode\": \"LMY\", \"IndicatorName\": \"CO2 emissions (metric tons per capita)\", \"IndicatorCode\": \"EN.ATM.CO2E.PC\", \"Year\": 1991, \"Value\": 1.7493296535724}, {\"CountryName\": \"World\", \"CountryCode\": \"WLD\", \"IndicatorName\": \"CO2 emissions (metric tons per capita)\", \"IndicatorCode\": \"EN.ATM.CO2E.PC\", \"Year\": 1991, \"Value\": 4.18584640735709}, {\"CountryName\": \"High income\", \"CountryCode\": \"HIC\", \"IndicatorName\": \"CO2 emissions (metric tons per capita)\", \"IndicatorCode\": \"EN.ATM.CO2E.PC\", \"Year\": 1992, \"Value\": 11.5138821850545}, {\"CountryName\": \"Low & middle income\", \"CountryCode\": \"LMY\", \"IndicatorName\": \"CO2 emissions (metric tons per capita)\", \"IndicatorCode\": \"EN.ATM.CO2E.PC\", \"Year\": 1992, \"Value\": 1.7862315230804098}, {\"CountryName\": \"World\", \"CountryCode\": \"WLD\", \"IndicatorName\": \"CO2 emissions (metric tons per capita)\", \"IndicatorCode\": \"EN.ATM.CO2E.PC\", \"Year\": 1992, \"Value\": 4.07924865535532}, {\"CountryName\": \"High income\", \"CountryCode\": \"HIC\", \"IndicatorName\": \"CO2 emissions (metric tons per capita)\", \"IndicatorCode\": \"EN.ATM.CO2E.PC\", \"Year\": 1993, \"Value\": 11.469436697295999}, {\"CountryName\": \"Low & middle income\", \"CountryCode\": \"LMY\", \"IndicatorName\": \"CO2 emissions (metric tons per capita)\", \"IndicatorCode\": \"EN.ATM.CO2E.PC\", \"Year\": 1993, \"Value\": 1.7956388890111898}, {\"CountryName\": \"World\", \"CountryCode\": \"WLD\", \"IndicatorName\": \"CO2 emissions (metric tons per capita)\", \"IndicatorCode\": \"EN.ATM.CO2E.PC\", \"Year\": 1993, \"Value\": 4.013940588483751}, {\"CountryName\": \"High income\", \"CountryCode\": \"HIC\", \"IndicatorName\": \"CO2 emissions (metric tons per capita)\", \"IndicatorCode\": \"EN.ATM.CO2E.PC\", \"Year\": 1994, \"Value\": 11.340754996120602}, {\"CountryName\": \"Low & middle income\", \"CountryCode\": \"LMY\", \"IndicatorName\": \"CO2 emissions (metric tons per capita)\", \"IndicatorCode\": \"EN.ATM.CO2E.PC\", \"Year\": 1994, \"Value\": 1.80556542699395}, {\"CountryName\": \"World\", \"CountryCode\": \"WLD\", \"IndicatorName\": \"CO2 emissions (metric tons per capita)\", \"IndicatorCode\": \"EN.ATM.CO2E.PC\", \"Year\": 1994, \"Value\": 4.025270741048471}, {\"CountryName\": \"High income\", \"CountryCode\": \"HIC\", \"IndicatorName\": \"CO2 emissions (metric tons per capita)\", \"IndicatorCode\": \"EN.ATM.CO2E.PC\", \"Year\": 1995, \"Value\": 11.262048765611803}, {\"CountryName\": \"Low & middle income\", \"CountryCode\": \"LMY\", \"IndicatorName\": \"CO2 emissions (metric tons per capita)\", \"IndicatorCode\": \"EN.ATM.CO2E.PC\", \"Year\": 1995, \"Value\": 1.8645262479497704}, {\"CountryName\": \"World\", \"CountryCode\": \"WLD\", \"IndicatorName\": \"CO2 emissions (metric tons per capita)\", \"IndicatorCode\": \"EN.ATM.CO2E.PC\", \"Year\": 1995, \"Value\": 4.05098974796022}, {\"CountryName\": \"High income\", \"CountryCode\": \"HIC\", \"IndicatorName\": \"CO2 emissions (metric tons per capita)\", \"IndicatorCode\": \"EN.ATM.CO2E.PC\", \"Year\": 1996, \"Value\": 11.441320265274598}, {\"CountryName\": \"Low & middle income\", \"CountryCode\": \"LMY\", \"IndicatorName\": \"CO2 emissions (metric tons per capita)\", \"IndicatorCode\": \"EN.ATM.CO2E.PC\", \"Year\": 1996, \"Value\": 1.90530987091185}, {\"CountryName\": \"World\", \"CountryCode\": \"WLD\", \"IndicatorName\": \"CO2 emissions (metric tons per capita)\", \"IndicatorCode\": \"EN.ATM.CO2E.PC\", \"Year\": 1996, \"Value\": 4.088495116724779}, {\"CountryName\": \"High income\", \"CountryCode\": \"HIC\", \"IndicatorName\": \"CO2 emissions (metric tons per capita)\", \"IndicatorCode\": \"EN.ATM.CO2E.PC\", \"Year\": 1997, \"Value\": 11.3897063735426}, {\"CountryName\": \"Low & middle income\", \"CountryCode\": \"LMY\", \"IndicatorName\": \"CO2 emissions (metric tons per capita)\", \"IndicatorCode\": \"EN.ATM.CO2E.PC\", \"Year\": 1997, \"Value\": 1.88394879439201}, {\"CountryName\": \"World\", \"CountryCode\": \"WLD\", \"IndicatorName\": \"CO2 emissions (metric tons per capita)\", \"IndicatorCode\": \"EN.ATM.CO2E.PC\", \"Year\": 1997, \"Value\": 4.09682377313941}, {\"CountryName\": \"High income\", \"CountryCode\": \"HIC\", \"IndicatorName\": \"CO2 emissions (metric tons per capita)\", \"IndicatorCode\": \"EN.ATM.CO2E.PC\", \"Year\": 1998, \"Value\": 11.3300241198819}, {\"CountryName\": \"Low & middle income\", \"CountryCode\": \"LMY\", \"IndicatorName\": \"CO2 emissions (metric tons per capita)\", \"IndicatorCode\": \"EN.ATM.CO2E.PC\", \"Year\": 1998, \"Value\": 1.82991836044577}, {\"CountryName\": \"World\", \"CountryCode\": \"WLD\", \"IndicatorName\": \"CO2 emissions (metric tons per capita)\", \"IndicatorCode\": \"EN.ATM.CO2E.PC\", \"Year\": 1998, \"Value\": 4.07100262420615}, {\"CountryName\": \"High income\", \"CountryCode\": \"HIC\", \"IndicatorName\": \"CO2 emissions (metric tons per capita)\", \"IndicatorCode\": \"EN.ATM.CO2E.PC\", \"Year\": 1999, \"Value\": 11.4383067101176}, {\"CountryName\": \"Low & middle income\", \"CountryCode\": \"LMY\", \"IndicatorName\": \"CO2 emissions (metric tons per capita)\", \"IndicatorCode\": \"EN.ATM.CO2E.PC\", \"Year\": 1999, \"Value\": 1.83760864044562}, {\"CountryName\": \"World\", \"CountryCode\": \"WLD\", \"IndicatorName\": \"CO2 emissions (metric tons per capita)\", \"IndicatorCode\": \"EN.ATM.CO2E.PC\", \"Year\": 1999, \"Value\": 4.00816040164314}, {\"CountryName\": \"High income\", \"CountryCode\": \"HIC\", \"IndicatorName\": \"CO2 emissions (metric tons per capita)\", \"IndicatorCode\": \"EN.ATM.CO2E.PC\", \"Year\": 2000, \"Value\": 11.698839483543301}, {\"CountryName\": \"Low & middle income\", \"CountryCode\": \"LMY\", \"IndicatorName\": \"CO2 emissions (metric tons per capita)\", \"IndicatorCode\": \"EN.ATM.CO2E.PC\", \"Year\": 2000, \"Value\": 1.8673064746659}, {\"CountryName\": \"World\", \"CountryCode\": \"WLD\", \"IndicatorName\": \"CO2 emissions (metric tons per capita)\", \"IndicatorCode\": \"EN.ATM.CO2E.PC\", \"Year\": 2000, \"Value\": 4.0549418668716095}, {\"CountryName\": \"High income\", \"CountryCode\": \"HIC\", \"IndicatorName\": \"CO2 emissions (metric tons per capita)\", \"IndicatorCode\": \"EN.ATM.CO2E.PC\", \"Year\": 2001, \"Value\": 11.599792303124001}, {\"CountryName\": \"Low & middle income\", \"CountryCode\": \"LMY\", \"IndicatorName\": \"CO2 emissions (metric tons per capita)\", \"IndicatorCode\": \"EN.ATM.CO2E.PC\", \"Year\": 2001, \"Value\": 1.88700279413031}, {\"CountryName\": \"World\", \"CountryCode\": \"WLD\", \"IndicatorName\": \"CO2 emissions (metric tons per capita)\", \"IndicatorCode\": \"EN.ATM.CO2E.PC\", \"Year\": 2001, \"Value\": 4.1010209270516915}, {\"CountryName\": \"High income\", \"CountryCode\": \"HIC\", \"IndicatorName\": \"CO2 emissions (metric tons per capita)\", \"IndicatorCode\": \"EN.ATM.CO2E.PC\", \"Year\": 2002, \"Value\": 11.602051144249199}, {\"CountryName\": \"Low & middle income\", \"CountryCode\": \"LMY\", \"IndicatorName\": \"CO2 emissions (metric tons per capita)\", \"IndicatorCode\": \"EN.ATM.CO2E.PC\", \"Year\": 2002, \"Value\": 1.9170832497659096}, {\"CountryName\": \"World\", \"CountryCode\": \"WLD\", \"IndicatorName\": \"CO2 emissions (metric tons per capita)\", \"IndicatorCode\": \"EN.ATM.CO2E.PC\", \"Year\": 2002, \"Value\": 4.08604185298401}, {\"CountryName\": \"High income\", \"CountryCode\": \"HIC\", \"IndicatorName\": \"CO2 emissions (metric tons per capita)\", \"IndicatorCode\": \"EN.ATM.CO2E.PC\", \"Year\": 2003, \"Value\": 11.733162477811101}, {\"CountryName\": \"Low & middle income\", \"CountryCode\": \"LMY\", \"IndicatorName\": \"CO2 emissions (metric tons per capita)\", \"IndicatorCode\": \"EN.ATM.CO2E.PC\", \"Year\": 2003, \"Value\": 2.11097089859574}, {\"CountryName\": \"World\", \"CountryCode\": \"WLD\", \"IndicatorName\": \"CO2 emissions (metric tons per capita)\", \"IndicatorCode\": \"EN.ATM.CO2E.PC\", \"Year\": 2003, \"Value\": 4.27332207481655}, {\"CountryName\": \"High income\", \"CountryCode\": \"HIC\", \"IndicatorName\": \"CO2 emissions (metric tons per capita)\", \"IndicatorCode\": \"EN.ATM.CO2E.PC\", \"Year\": 2004, \"Value\": 11.8292243312982}, {\"CountryName\": \"Low & middle income\", \"CountryCode\": \"LMY\", \"IndicatorName\": \"CO2 emissions (metric tons per capita)\", \"IndicatorCode\": \"EN.ATM.CO2E.PC\", \"Year\": 2004, \"Value\": 2.29453237018534}, {\"CountryName\": \"World\", \"CountryCode\": \"WLD\", \"IndicatorName\": \"CO2 emissions (metric tons per capita)\", \"IndicatorCode\": \"EN.ATM.CO2E.PC\", \"Year\": 2004, \"Value\": 4.43623096699728}, {\"CountryName\": \"High income\", \"CountryCode\": \"HIC\", \"IndicatorName\": \"CO2 emissions (metric tons per capita)\", \"IndicatorCode\": \"EN.ATM.CO2E.PC\", \"Year\": 2005, \"Value\": 11.7916963768893}, {\"CountryName\": \"Low & middle income\", \"CountryCode\": \"LMY\", \"IndicatorName\": \"CO2 emissions (metric tons per capita)\", \"IndicatorCode\": \"EN.ATM.CO2E.PC\", \"Year\": 2005, \"Value\": 2.39718108079486}, {\"CountryName\": \"World\", \"CountryCode\": \"WLD\", \"IndicatorName\": \"CO2 emissions (metric tons per capita)\", \"IndicatorCode\": \"EN.ATM.CO2E.PC\", \"Year\": 2005, \"Value\": 4.54589336098156}, {\"CountryName\": \"High income\", \"CountryCode\": \"HIC\", \"IndicatorName\": \"CO2 emissions (metric tons per capita)\", \"IndicatorCode\": \"EN.ATM.CO2E.PC\", \"Year\": 2006, \"Value\": 11.7743358384394}, {\"CountryName\": \"Low & middle income\", \"CountryCode\": \"LMY\", \"IndicatorName\": \"CO2 emissions (metric tons per capita)\", \"IndicatorCode\": \"EN.ATM.CO2E.PC\", \"Year\": 2006, \"Value\": 2.53543983009554}, {\"CountryName\": \"World\", \"CountryCode\": \"WLD\", \"IndicatorName\": \"CO2 emissions (metric tons per capita)\", \"IndicatorCode\": \"EN.ATM.CO2E.PC\", \"Year\": 2006, \"Value\": 4.6497440986277585}, {\"CountryName\": \"High income\", \"CountryCode\": \"HIC\", \"IndicatorName\": \"CO2 emissions (metric tons per capita)\", \"IndicatorCode\": \"EN.ATM.CO2E.PC\", \"Year\": 2007, \"Value\": 11.764535303275599}, {\"CountryName\": \"Low & middle income\", \"CountryCode\": \"LMY\", \"IndicatorName\": \"CO2 emissions (metric tons per capita)\", \"IndicatorCode\": \"EN.ATM.CO2E.PC\", \"Year\": 2007, \"Value\": 2.62824684659749}, {\"CountryName\": \"World\", \"CountryCode\": \"WLD\", \"IndicatorName\": \"CO2 emissions (metric tons per capita)\", \"IndicatorCode\": \"EN.ATM.CO2E.PC\", \"Year\": 2007, \"Value\": 4.68609897750822}, {\"CountryName\": \"High income\", \"CountryCode\": \"HIC\", \"IndicatorName\": \"CO2 emissions (metric tons per capita)\", \"IndicatorCode\": \"EN.ATM.CO2E.PC\", \"Year\": 2008, \"Value\": 11.5651979297809}, {\"CountryName\": \"Low & middle income\", \"CountryCode\": \"LMY\", \"IndicatorName\": \"CO2 emissions (metric tons per capita)\", \"IndicatorCode\": \"EN.ATM.CO2E.PC\", \"Year\": 2008, \"Value\": 2.7155621066603195}, {\"CountryName\": \"World\", \"CountryCode\": \"WLD\", \"IndicatorName\": \"CO2 emissions (metric tons per capita)\", \"IndicatorCode\": \"EN.ATM.CO2E.PC\", \"Year\": 2008, \"Value\": 4.74179675724883}, {\"CountryName\": \"High income\", \"CountryCode\": \"HIC\", \"IndicatorName\": \"CO2 emissions (metric tons per capita)\", \"IndicatorCode\": \"EN.ATM.CO2E.PC\", \"Year\": 2009, \"Value\": 10.8467233110049}, {\"CountryName\": \"Low & middle income\", \"CountryCode\": \"LMY\", \"IndicatorName\": \"CO2 emissions (metric tons per capita)\", \"IndicatorCode\": \"EN.ATM.CO2E.PC\", \"Year\": 2009, \"Value\": 2.82047284776776}, {\"CountryName\": \"World\", \"CountryCode\": \"WLD\", \"IndicatorName\": \"CO2 emissions (metric tons per capita)\", \"IndicatorCode\": \"EN.ATM.CO2E.PC\", \"Year\": 2009, \"Value\": 4.66309703197103}, {\"CountryName\": \"High income\", \"CountryCode\": \"HIC\", \"IndicatorName\": \"CO2 emissions (metric tons per capita)\", \"IndicatorCode\": \"EN.ATM.CO2E.PC\", \"Year\": 2010, \"Value\": 11.2281746469578}, {\"CountryName\": \"Low & middle income\", \"CountryCode\": \"LMY\", \"IndicatorName\": \"CO2 emissions (metric tons per capita)\", \"IndicatorCode\": \"EN.ATM.CO2E.PC\", \"Year\": 2010, \"Value\": 2.92890906287462}, {\"CountryName\": \"World\", \"CountryCode\": \"WLD\", \"IndicatorName\": \"CO2 emissions (metric tons per capita)\", \"IndicatorCode\": \"EN.ATM.CO2E.PC\", \"Year\": 2010, \"Value\": 4.840411679439732}, {\"CountryName\": \"High income\", \"CountryCode\": \"HIC\", \"IndicatorName\": \"CO2 emissions (metric tons per capita)\", \"IndicatorCode\": \"EN.ATM.CO2E.PC\", \"Year\": 2011, \"Value\": 11.0702804825437}, {\"CountryName\": \"Low & middle income\", \"CountryCode\": \"LMY\", \"IndicatorName\": \"CO2 emissions (metric tons per capita)\", \"IndicatorCode\": \"EN.ATM.CO2E.PC\", \"Year\": 2011, \"Value\": 3.1031744474373104}, {\"CountryName\": \"World\", \"CountryCode\": \"WLD\", \"IndicatorName\": \"CO2 emissions (metric tons per capita)\", \"IndicatorCode\": \"EN.ATM.CO2E.PC\", \"Year\": 2011, \"Value\": 4.944648930261018}]}}, {\"mode\": \"vega-lite\"});\n",
       "</script>"
      ],
      "text/plain": [
       "alt.Chart(...)"
      ]
     },
     "execution_count": 6,
     "metadata": {},
     "output_type": "execute_result"
    }
   ],
   "source": [
    "alt.Chart(df4).mark_line().encode(x = 'Year', \n",
    "                                  y = alt.Y('Value', axis = alt.Axis(title = 'CO2 Emissions in metric ton per capita')), \n",
    "                                  color = alt.Color('CountryName', legend = alt.Legend(title = 'Countries/Regions'), \n",
    "                                                    scale = alt.Scale(scheme = 'dark2'))).configure_axis(labelFontSize = 14,\n",
    "                                                                                                        titleFontSize = 14). configure_legend(titleFontSize = 16)"
   ]
  },
  {
   "cell_type": "code",
   "execution_count": null,
   "metadata": {},
   "outputs": [],
   "source": []
  }
 ],
 "metadata": {
  "kernelspec": {
   "display_name": "Python 3",
   "language": "python",
   "name": "python3"
  },
  "language_info": {
   "codemirror_mode": {
    "name": "ipython",
    "version": 3
   },
   "file_extension": ".py",
   "mimetype": "text/x-python",
   "name": "python",
   "nbconvert_exporter": "python",
   "pygments_lexer": "ipython3",
   "version": "3.7.6"
  }
 },
 "nbformat": 4,
 "nbformat_minor": 4
}
